{
 "cells": [
  {
   "cell_type": "code",
   "execution_count": 1,
   "id": "4671bc6c",
   "metadata": {},
   "outputs": [],
   "source": [
    "import os\n",
    "os.environ[\"DJANGO_ALLOW_ASYNC_UNSAFE\"] = \"true\"\n",
    "from account.models import *"
   ]
  },
  {
   "cell_type": "code",
   "execution_count": 2,
   "id": "d2d87515",
   "metadata": {},
   "outputs": [],
   "source": [
    "a1 = Account.objects.get(owner=\"A\", account_no=\"001\")\n",
    "a2 = Account.objects.get(owner=\"B\", account_no=\"002\")"
   ]
  },
  {
   "cell_type": "code",
   "execution_count": 3,
   "id": "119f492e",
   "metadata": {},
   "outputs": [],
   "source": [
    "from django.db.models import F, Q, Count, Value, Avg, Max, Min, Sum\n",
    "from django.db.models.functions import Length, Upper, Concat\n",
    "from django.db.models.lookups import GreaterThan\n",
    "import json"
   ]
  },
  {
   "cell_type": "code",
   "execution_count": 5,
   "id": "ad5538ff",
   "metadata": {},
   "outputs": [],
   "source": [
    "a1.transfer_funds(to_account_no=\"002\", amount=1000)"
   ]
  },
  {
   "cell_type": "code",
   "execution_count": 6,
   "id": "81964709",
   "metadata": {},
   "outputs": [
    {
     "name": "stdout",
     "output_type": "stream",
     "text": [
      "Account does not exist.\n"
     ]
    }
   ],
   "source": [
    "a2.transfer_funds(to_account_no=\"003\", amount=5000)"
   ]
  },
  {
   "cell_type": "code",
   "execution_count": 5,
   "id": "24e1ed29",
   "metadata": {},
   "outputs": [
    {
     "ename": "ValueError",
     "evalue": "Insufficient funds in the source account.",
     "output_type": "error",
     "traceback": [
      "\u001b[1;31m---------------------------------------------------------------------------\u001b[0m",
      "\u001b[1;31mValueError\u001b[0m                                Traceback (most recent call last)",
      "Cell \u001b[1;32mIn[5], line 1\u001b[0m\n\u001b[1;32m----> 1\u001b[0m \u001b[43ma2\u001b[49m\u001b[38;5;241;43m.\u001b[39;49m\u001b[43mtransfer_funds\u001b[49m\u001b[43m(\u001b[49m\u001b[43mto_account_no\u001b[49m\u001b[38;5;241;43m=\u001b[39;49m\u001b[38;5;124;43m\"\u001b[39;49m\u001b[38;5;124;43m003\u001b[39;49m\u001b[38;5;124;43m\"\u001b[39;49m\u001b[43m,\u001b[49m\u001b[43m \u001b[49m\u001b[43mamount\u001b[49m\u001b[38;5;241;43m=\u001b[39;49m\u001b[38;5;241;43m5000\u001b[39;49m\u001b[43m)\u001b[49m\n",
      "File \u001b[1;32m~\\Desktop\\Server-side\\week-11\\week11_tutorial\\account\\models.py:16\u001b[0m, in \u001b[0;36mAccount.transfer_funds\u001b[1;34m(self, to_account_no, amount)\u001b[0m\n\u001b[0;32m     14\u001b[0m from_account \u001b[38;5;241m=\u001b[39m \u001b[38;5;28mself\u001b[39m\n\u001b[0;32m     15\u001b[0m \u001b[38;5;28;01mif\u001b[39;00m from_account\u001b[38;5;241m.\u001b[39mbalance \u001b[38;5;241m<\u001b[39m amount:\n\u001b[1;32m---> 16\u001b[0m     \u001b[38;5;28;01mraise\u001b[39;00m \u001b[38;5;167;01mValueError\u001b[39;00m(\u001b[38;5;124m\"\u001b[39m\u001b[38;5;124mInsufficient funds in the source account.\u001b[39m\u001b[38;5;124m\"\u001b[39m)\n\u001b[0;32m     17\u001b[0m \u001b[38;5;66;03m# Debit the amount from the source account\u001b[39;00m\n\u001b[0;32m     18\u001b[0m from_account\u001b[38;5;241m.\u001b[39mbalance \u001b[38;5;241m=\u001b[39m F(\u001b[38;5;124m'\u001b[39m\u001b[38;5;124mbalance\u001b[39m\u001b[38;5;124m'\u001b[39m) \u001b[38;5;241m-\u001b[39m amount\n",
      "\u001b[1;31mValueError\u001b[0m: Insufficient funds in the source account."
     ]
    }
   ],
   "source": [
    "a2.transfer_funds(to_account_no=\"003\", amount=5000)"
   ]
  },
  {
   "cell_type": "code",
   "execution_count": null,
   "id": "7e62881c",
   "metadata": {},
   "outputs": [],
   "source": []
  }
 ],
 "metadata": {
  "kernelspec": {
   "display_name": "Django Shell-Plus",
   "language": "python",
   "name": "django_extensions"
  },
  "language_info": {
   "codemirror_mode": {
    "name": "ipython",
    "version": 3
   },
   "file_extension": ".py",
   "mimetype": "text/x-python",
   "name": "python",
   "nbconvert_exporter": "python",
   "pygments_lexer": "ipython3",
   "version": "3.12.3"
  }
 },
 "nbformat": 4,
 "nbformat_minor": 5
}
