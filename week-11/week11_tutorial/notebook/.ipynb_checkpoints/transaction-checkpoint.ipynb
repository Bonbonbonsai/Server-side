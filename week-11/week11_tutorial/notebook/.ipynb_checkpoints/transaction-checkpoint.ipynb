{
 "cells": [
  {
   "cell_type": "code",
   "execution_count": 2,
   "id": "4671bc6c",
   "metadata": {},
   "outputs": [],
   "source": [
    "import os\n",
    "os.environ[\"DJANGO_ALLOW_ASYNC_UNSAFE\"] = \"true\"\n",
    "from account.models import *"
   ]
  },
  {
   "cell_type": "code",
   "execution_count": 4,
   "id": "d2d87515",
   "metadata": {},
   "outputs": [],
   "source": [
    "a1 = Account.objects.get(owner=\"A\", account_no=\"001\")\n",
    "a2 = Account.objects.get(owner=\"B\", account_no=\"002\")"
   ]
  },
  {
   "cell_type": "code",
   "execution_count": 5,
   "id": "119f492e",
   "metadata": {},
   "outputs": [],
   "source": [
    "from django.db.models import F, Q, Count, Value, Avg, Max, Min, Sum\n",
    "from django.db.models.functions import Length, Upper, Concat\n",
    "from django.db.models.lookups import GreaterThan\n",
    "import json"
   ]
  },
  {
   "cell_type": "code",
   "execution_count": 5,
   "id": "ad5538ff",
   "metadata": {},
   "outputs": [],
   "source": [
    "a1.transfer_funds(to_account_no=\"002\", amount=1000)"
   ]
  },
  {
   "cell_type": "code",
   "execution_count": 6,
   "id": "81964709",
   "metadata": {},
   "outputs": [
    {
     "name": "stdout",
     "output_type": "stream",
     "text": [
      "Account does not exist.\n"
     ]
    }
   ],
   "source": [
    "a2.transfer_funds(to_account_no=\"003\", amount=5000)"
   ]
  },
  {
   "cell_type": "code",
   "execution_count": 6,
   "id": "24e1ed29",
   "metadata": {},
   "outputs": [
    {
     "ename": "AttributeError",
     "evalue": "'Account' object has no attribute 'transfer_funds'",
     "output_type": "error",
     "traceback": [
      "\u001b[1;31m---------------------------------------------------------------------------\u001b[0m",
      "\u001b[1;31mAttributeError\u001b[0m                            Traceback (most recent call last)",
      "Cell \u001b[1;32mIn[6], line 1\u001b[0m\n\u001b[1;32m----> 1\u001b[0m \u001b[43ma2\u001b[49m\u001b[38;5;241;43m.\u001b[39;49m\u001b[43mtransfer_funds\u001b[49m(to_account_no\u001b[38;5;241m=\u001b[39m\u001b[38;5;124m\"\u001b[39m\u001b[38;5;124m003\u001b[39m\u001b[38;5;124m\"\u001b[39m, amount\u001b[38;5;241m=\u001b[39m\u001b[38;5;241m5000\u001b[39m)\n",
      "\u001b[1;31mAttributeError\u001b[0m: 'Account' object has no attribute 'transfer_funds'"
     ]
    }
   ],
   "source": [
    "a2.transfer_funds(to_account_no=\"003\", amount=5000)"
   ]
  },
  {
   "cell_type": "code",
   "execution_count": null,
   "id": "7e62881c",
   "metadata": {},
   "outputs": [],
   "source": []
  }
 ],
 "metadata": {
  "kernelspec": {
   "display_name": "Django Shell-Plus",
   "language": "python",
   "name": "django_extensions"
  },
  "language_info": {
   "codemirror_mode": {
    "name": "ipython",
    "version": 3
   },
   "file_extension": ".py",
   "mimetype": "text/x-python",
   "name": "python",
   "nbconvert_exporter": "python",
   "pygments_lexer": "ipython3",
   "version": "3.12.3"
  }
 },
 "nbformat": 4,
 "nbformat_minor": 5
}
