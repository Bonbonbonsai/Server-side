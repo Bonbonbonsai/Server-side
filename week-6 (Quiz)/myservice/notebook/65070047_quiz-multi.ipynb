{
 "cells": [
  {
   "cell_type": "markdown",
   "metadata": {},
   "source": [
    "# QUIZ - 2024-08"
   ]
  },
  {
   "cell_type": "code",
   "execution_count": 1,
   "metadata": {},
   "outputs": [],
   "source": [
    "import os\n",
    "os.environ[\"DJANGO_ALLOW_ASYNC_UNSAFE\"] = \"true\""
   ]
  },
  {
   "cell_type": "code",
   "execution_count": 2,
   "metadata": {},
   "outputs": [],
   "source": [
    "from service.models import Service, ServiceCategory, ServiceProvider, Customer, Appointment\n",
    "from datetime import date, time, datetime\n",
    "from django.db.models import F, Q, Count, Value, Avg, Max, Min, Sum\n",
    "from django.db.models.functions import Length, Upper, Concat\n",
    "from django.db.models.lookups import GreaterThan\n",
    "import json"
   ]
  },
  {
   "cell_type": "markdown",
   "metadata": {},
   "source": [
    "## PART 1 - CRUD Operations\n",
    "1.1 สร้างบริการ (`Service`) รายละเอียดตามด้านล่าง และเพิ่มเข้าไปในหมวดหมู่ (`ServiceCategory`) ชื่อ \"Hair Care\"\n",
    "\n",
    "- Name: \"Hair Shower\"\n",
    "- Desciption: \"Cold hair shower\"\n",
    "- Price: 100 (Provider 1) และ 200 (Provider 2)\n",
    "- Service Provider: \"Provider 1\" และ \"Provider 2\"\n",
    "\n",
    "*Hint: ดังนั้นต้องสร้าง 2 แถวในตาราง `Service`*\n",
    "\n",
    "\n",
    "(0.5 คะแนน)\n",
    "\n",
    "*หมายเหตุ: จะต้อง get ข้อมูลมาโดยใช้การ query ด้วยชื่อตามที่โจทย์ว่าเท่านั้น ห้ามใช้ id ใน database*"
   ]
  },
  {
   "cell_type": "code",
   "execution_count": 81,
   "metadata": {},
   "outputs": [],
   "source": [
    "# CODE HERE\n",
    "provider_1 = ServiceProvider.objects.get(name=\"Provider 1\")\n",
    "provider_2 = ServiceProvider.objects.get(name=\"Provider 2\")\n",
    "\n",
    "new_service_1 = Service.objects.create(\n",
    "    name=\"Hair Shower\",\n",
    "    description=\"Cold hair shower\",\n",
    "    price=100,\n",
    "    service_provider=provider_1\n",
    ")\n",
    "\n",
    "new_service_2 = Service.objects.create(\n",
    "    name=\"Hair Shower\",\n",
    "    description=\"Cold hair shower\",\n",
    "    price=200,\n",
    "    service_provider=provider_2\n",
    ")\n",
    "\n",
    "hair_care = ServiceCategory.objects.get(name=\"Hair Care\")\n",
    "hair_care.services.add(new_service_1)\n",
    "hair_care.services.add(new_service_2)"
   ]
  },
  {
   "cell_type": "code",
   "execution_count": 82,
   "metadata": {},
   "outputs": [
    {
     "data": {
      "text/plain": [
       "6"
      ]
     },
     "execution_count": 82,
     "metadata": {},
     "output_type": "execute_result"
    }
   ],
   "source": [
    "# Check result\n",
    "cat = ServiceCategory.objects.first()\n",
    "cat.services.count()"
   ]
  },
  {
   "cell_type": "markdown",
   "metadata": {},
   "source": [
    "1.2 ทำการแก้ไขราคาของ \"Hair Shower\" ของ \"Provider 1\" จาก 100 เป็น 300\n",
    "\n",
    "(0.25 คะแนน)"
   ]
  },
  {
   "cell_type": "code",
   "execution_count": 83,
   "metadata": {},
   "outputs": [],
   "source": [
    "# CODE HERE\n",
    "new_service_1.price = 300\n",
    "new_service_1.save()"
   ]
  },
  {
   "cell_type": "code",
   "execution_count": 84,
   "metadata": {},
   "outputs": [
    {
     "name": "stdout",
     "output_type": "stream",
     "text": [
      "Service Name: Hair Shower, Provider Name: Provider 2, Price: 200\n",
      "Service Name: Hair Shower, Provider Name: Provider 1, Price: 300\n"
     ]
    }
   ],
   "source": [
    "# Check result\n",
    "services = Service.objects.filter(name=\"Hair Shower\")\n",
    "for service in services:\n",
    "    print(f\"Service Name: {service.name}, Provider Name: {service.service_provider.name}, Price: {service.price}\")"
   ]
  },
  {
   "cell_type": "markdown",
   "metadata": {},
   "source": [
    "1.3 ทำการแก้ไขนัดหมาย ณ วันที่ 2024-08-15 โดยเปลี่ยนจากเดิมที่นัดมาให้บริการ \"Massage\" ของ \"Provider 3\" เป็น \"Hair Shower\" ของ \"Provider 1\" แทน และทำการเลื่อนวันที่นัดหมายจาก 2024-08-15 เป็น 2024-08-18\n",
    "\n",
    "(0.25 คะแนน)\n",
    "\n",
    "*หมายเหตุ: จะต้อง get ข้อมูลมาโดยใช้การ query ด้วยชื่อตามที่โจทย์ว่าเท่านั้น ห้ามใช้ id ใน database*"
   ]
  },
  {
   "cell_type": "code",
   "execution_count": 88,
   "metadata": {},
   "outputs": [
    {
     "ename": "DoesNotExist",
     "evalue": "Appointment matching query does not exist.",
     "output_type": "error",
     "traceback": [
      "\u001b[1;31m---------------------------------------------------------------------------\u001b[0m",
      "\u001b[1;31mDoesNotExist\u001b[0m                              Traceback (most recent call last)",
      "Cell \u001b[1;32mIn[88], line 5\u001b[0m\n\u001b[0;32m      2\u001b[0m old \u001b[38;5;241m=\u001b[39m Service\u001b[38;5;241m.\u001b[39mobjects\u001b[38;5;241m.\u001b[39mget(name\u001b[38;5;241m=\u001b[39m\u001b[38;5;124m\"\u001b[39m\u001b[38;5;124mMassage\u001b[39m\u001b[38;5;124m\"\u001b[39m, service_provider__name\u001b[38;5;241m=\u001b[39m\u001b[38;5;124m\"\u001b[39m\u001b[38;5;124mProvider 3\u001b[39m\u001b[38;5;124m\"\u001b[39m)\n\u001b[0;32m      3\u001b[0m new \u001b[38;5;241m=\u001b[39m Service\u001b[38;5;241m.\u001b[39mobjects\u001b[38;5;241m.\u001b[39mget(name\u001b[38;5;241m=\u001b[39m\u001b[38;5;124m\"\u001b[39m\u001b[38;5;124mHair Shower\u001b[39m\u001b[38;5;124m\"\u001b[39m, service_provider__name\u001b[38;5;241m=\u001b[39m\u001b[38;5;124m\"\u001b[39m\u001b[38;5;124mProvider 1\u001b[39m\u001b[38;5;124m\"\u001b[39m)\n\u001b[1;32m----> 5\u001b[0m appointment \u001b[38;5;241m=\u001b[39m \u001b[43mAppointment\u001b[49m\u001b[38;5;241;43m.\u001b[39;49m\u001b[43mobjects\u001b[49m\u001b[38;5;241;43m.\u001b[39;49m\u001b[43mget\u001b[49m\u001b[43m(\u001b[49m\u001b[43mservice\u001b[49m\u001b[38;5;241;43m=\u001b[39;49m\u001b[43mold\u001b[49m\u001b[43m,\u001b[49m\u001b[43m \u001b[49m\u001b[43mappointment_date\u001b[49m\u001b[38;5;241;43m=\u001b[39;49m\u001b[43mdatetime\u001b[49m\u001b[43m(\u001b[49m\u001b[38;5;241;43m2024\u001b[39;49m\u001b[43m,\u001b[49m\u001b[43m \u001b[49m\u001b[38;5;241;43m8\u001b[39;49m\u001b[43m,\u001b[49m\u001b[43m \u001b[49m\u001b[38;5;241;43m15\u001b[39;49m\u001b[43m)\u001b[49m\u001b[43m)\u001b[49m\n\u001b[0;32m      7\u001b[0m appointment\u001b[38;5;241m.\u001b[39mservice \u001b[38;5;241m=\u001b[39m new;\n\u001b[0;32m      8\u001b[0m appointment\u001b[38;5;241m.\u001b[39mappointment_date \u001b[38;5;241m=\u001b[39m datetime(\u001b[38;5;241m2024\u001b[39m, \u001b[38;5;241m8\u001b[39m, \u001b[38;5;241m18\u001b[39m);\n",
      "File \u001b[1;32m~\\AppData\\Local\\Programs\\Python\\Python312\\Lib\\site-packages\\django\\db\\models\\manager.py:87\u001b[0m, in \u001b[0;36mBaseManager._get_queryset_methods.<locals>.create_method.<locals>.manager_method\u001b[1;34m(self, *args, **kwargs)\u001b[0m\n\u001b[0;32m     85\u001b[0m \u001b[38;5;129m@wraps\u001b[39m(method)\n\u001b[0;32m     86\u001b[0m \u001b[38;5;28;01mdef\u001b[39;00m \u001b[38;5;21mmanager_method\u001b[39m(\u001b[38;5;28mself\u001b[39m, \u001b[38;5;241m*\u001b[39margs, \u001b[38;5;241m*\u001b[39m\u001b[38;5;241m*\u001b[39mkwargs):\n\u001b[1;32m---> 87\u001b[0m     \u001b[38;5;28;01mreturn\u001b[39;00m \u001b[38;5;28;43mgetattr\u001b[39;49m\u001b[43m(\u001b[49m\u001b[38;5;28;43mself\u001b[39;49m\u001b[38;5;241;43m.\u001b[39;49m\u001b[43mget_queryset\u001b[49m\u001b[43m(\u001b[49m\u001b[43m)\u001b[49m\u001b[43m,\u001b[49m\u001b[43m \u001b[49m\u001b[43mname\u001b[49m\u001b[43m)\u001b[49m\u001b[43m(\u001b[49m\u001b[38;5;241;43m*\u001b[39;49m\u001b[43margs\u001b[49m\u001b[43m,\u001b[49m\u001b[43m \u001b[49m\u001b[38;5;241;43m*\u001b[39;49m\u001b[38;5;241;43m*\u001b[39;49m\u001b[43mkwargs\u001b[49m\u001b[43m)\u001b[49m\n",
      "File \u001b[1;32m~\\AppData\\Local\\Programs\\Python\\Python312\\Lib\\site-packages\\django\\db\\models\\query.py:649\u001b[0m, in \u001b[0;36mQuerySet.get\u001b[1;34m(self, *args, **kwargs)\u001b[0m\n\u001b[0;32m    647\u001b[0m     \u001b[38;5;28;01mreturn\u001b[39;00m clone\u001b[38;5;241m.\u001b[39m_result_cache[\u001b[38;5;241m0\u001b[39m]\n\u001b[0;32m    648\u001b[0m \u001b[38;5;28;01mif\u001b[39;00m \u001b[38;5;129;01mnot\u001b[39;00m num:\n\u001b[1;32m--> 649\u001b[0m     \u001b[38;5;28;01mraise\u001b[39;00m \u001b[38;5;28mself\u001b[39m\u001b[38;5;241m.\u001b[39mmodel\u001b[38;5;241m.\u001b[39mDoesNotExist(\n\u001b[0;32m    650\u001b[0m         \u001b[38;5;124m\"\u001b[39m\u001b[38;5;132;01m%s\u001b[39;00m\u001b[38;5;124m matching query does not exist.\u001b[39m\u001b[38;5;124m\"\u001b[39m \u001b[38;5;241m%\u001b[39m \u001b[38;5;28mself\u001b[39m\u001b[38;5;241m.\u001b[39mmodel\u001b[38;5;241m.\u001b[39m_meta\u001b[38;5;241m.\u001b[39mobject_name\n\u001b[0;32m    651\u001b[0m     )\n\u001b[0;32m    652\u001b[0m \u001b[38;5;28;01mraise\u001b[39;00m \u001b[38;5;28mself\u001b[39m\u001b[38;5;241m.\u001b[39mmodel\u001b[38;5;241m.\u001b[39mMultipleObjectsReturned(\n\u001b[0;32m    653\u001b[0m     \u001b[38;5;124m\"\u001b[39m\u001b[38;5;124mget() returned more than one \u001b[39m\u001b[38;5;132;01m%s\u001b[39;00m\u001b[38;5;124m -- it returned \u001b[39m\u001b[38;5;132;01m%s\u001b[39;00m\u001b[38;5;124m!\u001b[39m\u001b[38;5;124m\"\u001b[39m\n\u001b[0;32m    654\u001b[0m     \u001b[38;5;241m%\u001b[39m (\n\u001b[1;32m   (...)\u001b[0m\n\u001b[0;32m    657\u001b[0m     )\n\u001b[0;32m    658\u001b[0m )\n",
      "\u001b[1;31mDoesNotExist\u001b[0m: Appointment matching query does not exist."
     ]
    }
   ],
   "source": [
    "#CODE HERE\n",
    "old = Service.objects.get(name=\"Massage\", service_provider__name=\"Provider 3\")\n",
    "new = Service.objects.get(name=\"Hair Shower\", service_provider__name=\"Provider 1\")\n",
    "\n",
    "appointment = Appointment.objects.get(service=old, appointment_date=datetime(2024, 8, 15))\n",
    "\n",
    "appointment.service = new;\n",
    "appointment.appointment_date = datetime(2024, 8, 18);\n",
    "appointment.save();"
   ]
  },
  {
   "cell_type": "code",
   "execution_count": 89,
   "metadata": {},
   "outputs": [
    {
     "name": "stdout",
     "output_type": "stream",
     "text": [
      "Appoint Date: 2024-08-17, Appoint Time: 14:00:00\n",
      "Service Name: Haircut, Provider Name: Provider 4, Customer Name: Customer 2\n"
     ]
    }
   ],
   "source": [
    "# Check result\n",
    "res = Appointment.objects.order_by(\"-appointment_date\").first()\n",
    "print(f\"Appoint Date: {res.appointment_date}, Appoint Time: {res.appointment_time}\")\n",
    "print(f\"Service Name: {res.service.name}, Provider Name: {res.service.service_provider.name}, Customer Name: {res.customer.name}\")"
   ]
  },
  {
   "cell_type": "markdown",
   "metadata": {},
   "source": [
    "1.4 ทำตามขั้นตอนดังนี้\n",
    "\n",
    "1. สร้างผู้ให้บริการ (`ServiceProvider`) ชื่อ \"Super Provider\" ขึ้นมา (email: super@gmail.com, phone: 089-999-9999) และทำการเพิ่มบริการ (`Service`) ให้กับผู้ให้บริการนี้ (เทพมากสามารถทำได้ทุกบริการ) โดยทุกบริการราคาเท่ากับ 500 บาท\n",
    "\n",
    "(1 คะแนน)"
   ]
  },
  {
   "cell_type": "code",
   "execution_count": 90,
   "metadata": {},
   "outputs": [],
   "source": [
    "# CODE HERE\n",
    "super_provider = ServiceProvider.objects.create(\n",
    "    name=\"Super Provider\",\n",
    "    email=\"super@gmail.com\",\n",
    "    phone=\"089-999-9999\"\n",
    ")"
   ]
  },
  {
   "cell_type": "code",
   "execution_count": 91,
   "metadata": {},
   "outputs": [],
   "source": [
    "# Check result\n",
    "for s in Service.objects.filter(service_provider__name=\"Super Provider\"):\n",
    "    print(f\"Service Name: {s.name}, Price: {s.price}, Provider: {s.service_provider.name}\")"
   ]
  },
  {
   "cell_type": "markdown",
   "metadata": {},
   "source": [
    "## PART 2 - Making Queries\n",
    "\n",
    "สำหรับ PART 2 ให้ทำการ reset DB และ import ข้อมูลใน `service.sql` เข้าไปใหม่"
   ]
  },
  {
   "cell_type": "markdown",
   "metadata": {},
   "source": [
    "2.1 ให้หาจำนวนนัดหมาย ที่นัดหมาย (`Appointment.appointment_date`) ในช่วงวันที่ 2024-08-05 ถึง 2024-08-10 ของ \"Service Provider 1\"\n",
    "\n",
    "**Expected Output**\n",
    "\n",
    "จะต้องมี 3 รายการ\n",
    "\n",
    "(0.5 คะแนน)"
   ]
  },
  {
   "cell_type": "code",
   "execution_count": 44,
   "metadata": {},
   "outputs": [
    {
     "name": "stdout",
     "output_type": "stream",
     "text": [
      "Appointment amount: 5\n"
     ]
    }
   ],
   "source": [
    "# CODE HERE\n",
    "appointment_count = Appointment.objects.filter(\n",
    "    appointment_date__range=(datetime(2024, 8, 5), datetime(2024, 8, 10)),\n",
    "    service__service_provider__name=\"Provider 1\"\n",
    ").count()\n",
    "\n",
    "print(f\"Appointment amount: {appointment_count}\")"
   ]
  },
  {
   "cell_type": "markdown",
   "metadata": {},
   "source": [
    "2.2 ให้หาว่ามีบริการใด ของผู้ให้บริการไหนบ้าง ที่มีการนัดหมายที่ถูกสร้าง (`Appointment.created_at`) ในช่วงวันที่ 2024-08-01 ถึง 2024-08-02\n",
    "\n",
    "(0.5 คะแนน)\n",
    "\n",
    "**Expected Output**\n",
    "\n",
    "```\n",
    "Name: Haircut, Provider: Provider 1\n",
    "Name: Manicure, Provider: Provider 1\n",
    "Name: Massage, Provider: Provider 1\n",
    "Name: Manicure, Provider: Provider 2\n",
    "```"
   ]
  },
  {
   "cell_type": "code",
   "execution_count": 78,
   "metadata": {},
   "outputs": [
    {
     "name": "stdout",
     "output_type": "stream",
     "text": [
      "Name: Haircut, Provider: Provider 1\n",
      "Name: Massage, Provider: Provider 1\n"
     ]
    }
   ],
   "source": [
    "# CODE HERE\n",
    "appointments = Appointment.objects.filter(\n",
    "    created_at__range=(datetime(2024, 8, 1), datetime(2024, 8, 2))\n",
    ")\n",
    "\n",
    "for appointment in appointments:\n",
    "    print(f\"Name: {appointment.service.name}, Provider: {appointment.service.service_provider.name}\")"
   ]
  },
  {
   "cell_type": "markdown",
   "metadata": {},
   "source": [
    "2.3 ให้แสดงผลข้อมูลลูกค้า (`Customer`) ดังในตัวอย่าง\n",
    "\n",
    "```python\n",
    "[\n",
    "    {\n",
    "        \"name\": \"Customer 4\",\n",
    "        \"phone\": \"123-456-7893\",\n",
    "        \"appointment_num\": 3\n",
    "    },\n",
    "    {\n",
    "        \"name\": \"Customer 2\",\n",
    "        \"phone\": \"123-456-7891\",\n",
    "        \"appointment_num\": 4\n",
    "    },\n",
    "    {\n",
    "        \"name\": \"Customer 3\",\n",
    "        \"phone\": \"123-456-7892\",\n",
    "        \"appointment_num\": 3\n",
    "    },\n",
    "    {\n",
    "        \"name\": \"Customer 1\",\n",
    "        \"phone\": \"123-456-7890\",\n",
    "        \"appointment_num\": 5\n",
    "    }\n",
    "]\n",
    "```\n",
    "\n",
    "(0.5 คะแนน)\n",
    "\n",
    "*หมายเหตุ: จะต้องใช้ `annotate()` และ `values()` เท่านั้น การ loop และสร้าง dict เองจะไม่ได้คะแนน*\n",
    "\n",
    "Hint: อยาก print dictionary สวยๆ ใช้ json.dumps\n",
    "\n",
    "```python\n",
    "print(json.dumps(dictionary, indent=4, sort_keys=False))\n",
    "```"
   ]
  },
  {
   "cell_type": "code",
   "execution_count": 49,
   "metadata": {},
   "outputs": [
    {
     "name": "stdout",
     "output_type": "stream",
     "text": [
      "[\n",
      "    {\n",
      "        \"name\": \"Customer 4\",\n",
      "        \"phone\": \"123-456-7893\",\n",
      "        \"appointment_num\": 3\n",
      "    },\n",
      "    {\n",
      "        \"name\": \"Customer 2\",\n",
      "        \"phone\": \"123-456-7891\",\n",
      "        \"appointment_num\": 4\n",
      "    },\n",
      "    {\n",
      "        \"name\": \"Customer 3\",\n",
      "        \"phone\": \"123-456-7892\",\n",
      "        \"appointment_num\": 3\n",
      "    },\n",
      "    {\n",
      "        \"name\": \"Customer 1\",\n",
      "        \"phone\": \"123-456-7890\",\n",
      "        \"appointment_num\": 5\n",
      "    }\n",
      "]\n"
     ]
    }
   ],
   "source": [
    "# CODE HERE\n",
    "show_customer = Customer.objects.annotate(appointment_num=Count(\"appointment\")).values(\"name\", \"phone\", \"appointment_num\")\n",
    "show_customer_list = list(show_customer)\n",
    "print(json.dumps(show_customer_list, indent=4, sort_keys=False))"
   ]
  },
  {
   "cell_type": "markdown",
   "metadata": {},
   "source": [
    "2.4 ให้แสดงข้อมูลผู้ให้บริการ (`ServiceProvider`) ดังนี้\n",
    "\n",
    "*หมายเหตุ: Appointment Num หมายถึงจำนวนนัดหมายที่ผู้ให้บริการนั้นมีการได้รับนัด และ Appointed Service หมายถึงบริการที่มีการนัดหมายของผู้ให้บริการนั้นๆ*\n",
    "\n",
    "(1 คะแนน)\n",
    "\n",
    "**Expected Output**\n",
    "\n",
    "```python\n",
    "Name: Provider 1, Appointment Num: 7, Appointed Services: Haircut, Manicure, Massage, Manicure, Manicure, Massage, Massage\n",
    "Name: Provider 2, Appointment Num: 5, Appointed Services: Haircut, Manicure, Massage, Manicure, Manicure\n",
    "Name: Provider 3, Appointment Num: 2, Appointed Services: Manicure, Massage\n",
    "Name: Provider 4, Appointment Num: 1, Appointed Services: Haircut\n",
    "```"
   ]
  },
  {
   "cell_type": "code",
   "execution_count": 93,
   "metadata": {
    "scrolled": true
   },
   "outputs": [
    {
     "name": "stdout",
     "output_type": "stream",
     "text": [
      "Name: Provider 4\n",
      "Name: Provider 2\n",
      "Name: Provider 3\n",
      "Name: Provider 1\n",
      "Name: Super Provider\n"
     ]
    }
   ],
   "source": [
    "# CODE HERE\n",
    "providers = ServiceProvider.objects.annotate(appointment_num=Count(\"name\"))\n",
    "for provider in providers:\n",
    "    print(f\"Name: {provider.name}\")"
   ]
  },
  {
   "cell_type": "markdown",
   "metadata": {},
   "source": [
    "2.5 ให้หาว่าบริการ (`Service`) ไหนของผู้บริการไหนได้รับความนิยมสูงสุด (มีจำนวนนัดหมายมากที่สุด) และ นิยมน้อยที่สุด (มีจำนวนนัดหมายน้อยที่สุด)\n",
    "\n",
    "(0.5 คะแนน)\n",
    "\n",
    "**Expected Output**\n",
    "\n",
    "```python\n",
    "Name: Manicure, Provider: Provider 1, Appointment Num: 3\n",
    "Name: Massage, Provider: Provider 1, Appointment Num: 3\n",
    "Name: Manicure, Provider: Provider 2, Appointment Num: 3\n",
    "Name: Massage, Provider: Provider 3, Appointment Num: 1\n",
    "Name: Haircut, Provider: Provider 1, Appointment Num: 1\n",
    "Name: Massage, Provider: Provider 2, Appointment Num: 1\n",
    "Name: Manicure, Provider: Provider 3, Appointment Num: 1\n",
    "Name: Haircut, Provider: Provider 4, Appointment Num: 1\n",
    "Name: Haircut, Provider: Provider 2, Appointment Num: 1\n",
    "Name: Massage, Provider: Provider 4, Appointment Num: 0\n",
    "Name: Manicure, Provider: Provider 4, Appointment Num: 0\n",
    "Name: Haircut, Provider: Provider 3, Appointment Num: 0\n",
    "```"
   ]
  },
  {
   "cell_type": "code",
   "execution_count": 65,
   "metadata": {},
   "outputs": [
    {
     "name": "stdout",
     "output_type": "stream",
     "text": [
      "Name: Massage, Provider: Provider 1, Appointment Num: 3\n",
      "Name: Manicure, Provider: Provider 2, Appointment Num: 3\n",
      "Name: Manicure, Provider: Provider 1, Appointment Num: 3\n",
      "Name: Massage, Provider: Provider 2, Appointment Num: 1\n",
      "Name: Manicure, Provider: Provider 3, Appointment Num: 1\n",
      "Name: Haircut, Provider: Provider 1, Appointment Num: 1\n",
      "Name: Haircut, Provider: Provider 2, Appointment Num: 1\n",
      "Name: Haircut, Provider: Provider 4, Appointment Num: 1\n",
      "Name: Massage, Provider: Provider 3, Appointment Num: 1\n",
      "Name: Massage, Provider: Provider 4, Appointment Num: 0\n",
      "Name: Haircut, Provider: Provider 3, Appointment Num: 0\n",
      "Name: Manicure, Provider: Provider 4, Appointment Num: 0\n"
     ]
    }
   ],
   "source": [
    "# CODE HERE\n",
    "services = Service.objects.annotate(appointment_num=Count(\"appointment\")).order_by(\"-appointment_num\")\n",
    "for service in services:\n",
    "    print(f\"Name: {service.name}, Provider: {service.service_provider.name}, Appointment Num: {service.appointment_num}\")"
   ]
  },
  {
   "cell_type": "markdown",
   "metadata": {},
   "source": [
    "2.6 ให้ดึงข้อมูลหมวดหมู่บริการโดยแปลงชื่อบริการ (`Service.name`) เป็นตัวใหญ่ (uppercase) และราคา (`Service.price`) เป็น 2 เท่า และเรียงลำดับตามราคา\n",
    "\n",
    "(0.5 คะแนน)\n",
    "\n",
    "**Expected Output**\n",
    "\n",
    "```python\n",
    "Name: HAIRCUT, Provider: Provider 1, New Price: $40\n",
    "Name: MANICURE, Provider: Provider 1, New Price: $60\n",
    "Name: MASSAGE, Provider: Provider 1, New Price: $200\n",
    "Name: HAIRCUT, Provider: Provider 2, New Price: $40\n",
    "Name: MANICURE, Provider: Provider 2, New Price: $60\n",
    "Name: MASSAGE, Provider: Provider 2, New Price: $200\n",
    "Name: HAIRCUT, Provider: Provider 3, New Price: $40\n",
    "Name: MANICURE, Provider: Provider 3, New Price: $60\n",
    "Name: MASSAGE, Provider: Provider 3, New Price: $200\n",
    "Name: HAIRCUT, Provider: Provider 4, New Price: $40\n",
    "Name: MANICURE, Provider: Provider 4, New Price: $60\n",
    "Name: MASSAGE, Provider: Provider 4, New Price: $200\n",
    "```"
   ]
  },
  {
   "cell_type": "code",
   "execution_count": 70,
   "metadata": {},
   "outputs": [
    {
     "name": "stdout",
     "output_type": "stream",
     "text": [
      "Name: HAIRCUT, Provider: Provider 1, Appointment Num: $40\n",
      "Name: MANICURE, Provider: Provider 1, Appointment Num: $60\n",
      "Name: MASSAGE, Provider: Provider 1, Appointment Num: $200\n",
      "Name: HAIRCUT, Provider: Provider 2, Appointment Num: $40\n",
      "Name: MANICURE, Provider: Provider 2, Appointment Num: $60\n",
      "Name: MASSAGE, Provider: Provider 2, Appointment Num: $200\n",
      "Name: HAIRCUT, Provider: Provider 3, Appointment Num: $40\n",
      "Name: MANICURE, Provider: Provider 3, Appointment Num: $60\n",
      "Name: MASSAGE, Provider: Provider 3, Appointment Num: $200\n",
      "Name: HAIRCUT, Provider: Provider 4, Appointment Num: $40\n",
      "Name: MANICURE, Provider: Provider 4, Appointment Num: $60\n",
      "Name: MASSAGE, Provider: Provider 4, Appointment Num: $200\n"
     ]
    }
   ],
   "source": [
    "# CODE HERE\n",
    "services = Service.objects.annotate(new_price=F(\"price\")*2, upper_name=Upper(\"name\"))\n",
    "for service in services:\n",
    "    print(f\"Name: {service.upper_name}, Provider: {service.service_provider.name}, Appointment Num: ${service.new_price}\")"
   ]
  },
  {
   "cell_type": "code",
   "execution_count": null,
   "metadata": {},
   "outputs": [],
   "source": []
  }
 ],
 "metadata": {
  "kernelspec": {
   "display_name": "Django Shell-Plus",
   "language": "python",
   "name": "django_extensions"
  },
  "language_info": {
   "codemirror_mode": {
    "name": "ipython",
    "version": 3
   },
   "file_extension": ".py",
   "mimetype": "text/x-python",
   "name": "python",
   "nbconvert_exporter": "python",
   "pygments_lexer": "ipython3",
   "version": "3.12.4"
  }
 },
 "nbformat": 4,
 "nbformat_minor": 2
}
