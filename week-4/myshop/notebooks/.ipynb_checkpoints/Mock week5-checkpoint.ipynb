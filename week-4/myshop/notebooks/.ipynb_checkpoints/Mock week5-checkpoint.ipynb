{
 "cells": [
  {
   "cell_type": "markdown",
   "id": "cd7d24df",
   "metadata": {},
   "source": [
    "# **หมายเหตุ: รบกวนรี database ถ้าอยากได้ข้อมูลตรง**"
   ]
  },
  {
   "cell_type": "code",
   "execution_count": 2,
   "id": "6a5941a4",
   "metadata": {},
   "outputs": [],
   "source": [
    "import os\n",
    "os.environ['DJANGO_ALLOW_ASYNC_UNSAFE'] = \"true\"\n",
    "\n",
    "# import modules\n",
    "from shop.models import *\n",
    "from django.db.models import F, Q, Count, Value, Avg, Max, Min, Sum\n",
    "from django.db.models.functions import Length, Upper, Concat\n",
    "from django.db.models.lookups import GreaterThan\n",
    "import json"
   ]
  },
  {
   "cell_type": "markdown",
   "id": "6dd0e302",
   "metadata": {},
   "source": [
    "### 1. annotate()\n",
    "1.1 ให้ค้นหาข้อมูล `Product` โดยให้เพิ่ม field ราคารวมทั้งหมดของสินค้า โดยกำหนดให้ชื่อ field ว่า \"total_price\" โดยใช้แสดงข้อมูล 5 ตัวแรกเรียงตาม \"total_price\" จากมากไปน้อย\n",
    "\n",
    "**หมายเหตุ: จะต้องใช้ annotate() ให้เอา `Product.price` * `Product.remaining_amount`**\n",
    "\n",
    "ตัวอย่าง Output\n",
    "\n",
    "```\n",
    "ID: 61, PRICE: 320000.00, AMOUNT: 10, TOTAL PRICE: 3200000.00\n",
    "ID: 65, PRICE: 1200000.00, AMOUNT: 2, TOTAL PRICE: 2400000.00\n",
    "ID: 62, PRICE: 70000.00, AMOUNT: 15, TOTAL PRICE: 1050000.00\n",
    "ID: 63, PRICE: 59000.00, AMOUNT: 12, TOTAL PRICE: 708000.00\n",
    "ID: 14, PRICE: 18900.00, AMOUNT: 30, TOTAL PRICE: 567000.00\n",
    "```"
   ]
  },
  {
   "cell_type": "code",
   "execution_count": 4,
   "id": "2c5711fa",
   "metadata": {},
   "outputs": [
    {
     "ename": "OperationalError",
     "evalue": "connection to server at \"localhost\" (::1), port 5432 failed: FATAL:  password authentication failed for user \"postgres\"\n",
     "output_type": "error",
     "traceback": [
      "\u001b[1;31m---------------------------------------------------------------------------\u001b[0m",
      "\u001b[1;31mOperationalError\u001b[0m                          Traceback (most recent call last)",
      "File \u001b[1;32mE:\\IT\\server-side\\Server-side\\week-4\\myvenv\\Lib\\site-packages\\django\\db\\backends\\base\\base.py:275\u001b[0m, in \u001b[0;36mBaseDatabaseWrapper.ensure_connection\u001b[1;34m(self)\u001b[0m\n\u001b[0;32m    274\u001b[0m \u001b[38;5;28;01mwith\u001b[39;00m \u001b[38;5;28mself\u001b[39m\u001b[38;5;241m.\u001b[39mwrap_database_errors:\n\u001b[1;32m--> 275\u001b[0m     \u001b[38;5;28;43mself\u001b[39;49m\u001b[38;5;241;43m.\u001b[39;49m\u001b[43mconnect\u001b[49m\u001b[43m(\u001b[49m\u001b[43m)\u001b[49m\n",
      "File \u001b[1;32mE:\\IT\\server-side\\Server-side\\week-4\\myvenv\\Lib\\site-packages\\django\\utils\\asyncio.py:26\u001b[0m, in \u001b[0;36masync_unsafe.<locals>.decorator.<locals>.inner\u001b[1;34m(*args, **kwargs)\u001b[0m\n\u001b[0;32m     25\u001b[0m \u001b[38;5;66;03m# Pass onward.\u001b[39;00m\n\u001b[1;32m---> 26\u001b[0m \u001b[38;5;28;01mreturn\u001b[39;00m \u001b[43mfunc\u001b[49m\u001b[43m(\u001b[49m\u001b[38;5;241;43m*\u001b[39;49m\u001b[43margs\u001b[49m\u001b[43m,\u001b[49m\u001b[43m \u001b[49m\u001b[38;5;241;43m*\u001b[39;49m\u001b[38;5;241;43m*\u001b[39;49m\u001b[43mkwargs\u001b[49m\u001b[43m)\u001b[49m\n",
      "File \u001b[1;32mE:\\IT\\server-side\\Server-side\\week-4\\myvenv\\Lib\\site-packages\\django\\db\\backends\\base\\base.py:256\u001b[0m, in \u001b[0;36mBaseDatabaseWrapper.connect\u001b[1;34m(self)\u001b[0m\n\u001b[0;32m    255\u001b[0m conn_params \u001b[38;5;241m=\u001b[39m \u001b[38;5;28mself\u001b[39m\u001b[38;5;241m.\u001b[39mget_connection_params()\n\u001b[1;32m--> 256\u001b[0m \u001b[38;5;28mself\u001b[39m\u001b[38;5;241m.\u001b[39mconnection \u001b[38;5;241m=\u001b[39m \u001b[38;5;28;43mself\u001b[39;49m\u001b[38;5;241;43m.\u001b[39;49m\u001b[43mget_new_connection\u001b[49m\u001b[43m(\u001b[49m\u001b[43mconn_params\u001b[49m\u001b[43m)\u001b[49m\n\u001b[0;32m    257\u001b[0m \u001b[38;5;28mself\u001b[39m\u001b[38;5;241m.\u001b[39mset_autocommit(\u001b[38;5;28mself\u001b[39m\u001b[38;5;241m.\u001b[39msettings_dict[\u001b[38;5;124m\"\u001b[39m\u001b[38;5;124mAUTOCOMMIT\u001b[39m\u001b[38;5;124m\"\u001b[39m])\n",
      "File \u001b[1;32mE:\\IT\\server-side\\Server-side\\week-4\\myvenv\\Lib\\site-packages\\django\\utils\\asyncio.py:26\u001b[0m, in \u001b[0;36masync_unsafe.<locals>.decorator.<locals>.inner\u001b[1;34m(*args, **kwargs)\u001b[0m\n\u001b[0;32m     25\u001b[0m \u001b[38;5;66;03m# Pass onward.\u001b[39;00m\n\u001b[1;32m---> 26\u001b[0m \u001b[38;5;28;01mreturn\u001b[39;00m \u001b[43mfunc\u001b[49m\u001b[43m(\u001b[49m\u001b[38;5;241;43m*\u001b[39;49m\u001b[43margs\u001b[49m\u001b[43m,\u001b[49m\u001b[43m \u001b[49m\u001b[38;5;241;43m*\u001b[39;49m\u001b[38;5;241;43m*\u001b[39;49m\u001b[43mkwargs\u001b[49m\u001b[43m)\u001b[49m\n",
      "File \u001b[1;32mE:\\IT\\server-side\\Server-side\\week-4\\myvenv\\Lib\\site-packages\\django\\db\\backends\\postgresql\\base.py:277\u001b[0m, in \u001b[0;36mDatabaseWrapper.get_new_connection\u001b[1;34m(self, conn_params)\u001b[0m\n\u001b[0;32m    273\u001b[0m         \u001b[38;5;28;01mraise\u001b[39;00m ImproperlyConfigured(\n\u001b[0;32m    274\u001b[0m             \u001b[38;5;124mf\u001b[39m\u001b[38;5;124m\"\u001b[39m\u001b[38;5;124mInvalid transaction isolation level \u001b[39m\u001b[38;5;132;01m{\u001b[39;00misolation_level_value\u001b[38;5;132;01m}\u001b[39;00m\u001b[38;5;124m \u001b[39m\u001b[38;5;124m\"\u001b[39m\n\u001b[0;32m    275\u001b[0m             \u001b[38;5;124mf\u001b[39m\u001b[38;5;124m\"\u001b[39m\u001b[38;5;124mspecified. Use one of the psycopg.IsolationLevel values.\u001b[39m\u001b[38;5;124m\"\u001b[39m\n\u001b[0;32m    276\u001b[0m         )\n\u001b[1;32m--> 277\u001b[0m connection \u001b[38;5;241m=\u001b[39m \u001b[38;5;28;43mself\u001b[39;49m\u001b[38;5;241;43m.\u001b[39;49m\u001b[43mDatabase\u001b[49m\u001b[38;5;241;43m.\u001b[39;49m\u001b[43mconnect\u001b[49m\u001b[43m(\u001b[49m\u001b[38;5;241;43m*\u001b[39;49m\u001b[38;5;241;43m*\u001b[39;49m\u001b[43mconn_params\u001b[49m\u001b[43m)\u001b[49m\n\u001b[0;32m    278\u001b[0m \u001b[38;5;28;01mif\u001b[39;00m set_isolation_level:\n",
      "File \u001b[1;32mE:\\IT\\server-side\\Server-side\\week-4\\myvenv\\Lib\\site-packages\\psycopg2\\__init__.py:122\u001b[0m, in \u001b[0;36mconnect\u001b[1;34m(dsn, connection_factory, cursor_factory, **kwargs)\u001b[0m\n\u001b[0;32m    121\u001b[0m dsn \u001b[38;5;241m=\u001b[39m _ext\u001b[38;5;241m.\u001b[39mmake_dsn(dsn, \u001b[38;5;241m*\u001b[39m\u001b[38;5;241m*\u001b[39mkwargs)\n\u001b[1;32m--> 122\u001b[0m conn \u001b[38;5;241m=\u001b[39m \u001b[43m_connect\u001b[49m\u001b[43m(\u001b[49m\u001b[43mdsn\u001b[49m\u001b[43m,\u001b[49m\u001b[43m \u001b[49m\u001b[43mconnection_factory\u001b[49m\u001b[38;5;241;43m=\u001b[39;49m\u001b[43mconnection_factory\u001b[49m\u001b[43m,\u001b[49m\u001b[43m \u001b[49m\u001b[38;5;241;43m*\u001b[39;49m\u001b[38;5;241;43m*\u001b[39;49m\u001b[43mkwasync\u001b[49m\u001b[43m)\u001b[49m\n\u001b[0;32m    123\u001b[0m \u001b[38;5;28;01mif\u001b[39;00m cursor_factory \u001b[38;5;129;01mis\u001b[39;00m \u001b[38;5;129;01mnot\u001b[39;00m \u001b[38;5;28;01mNone\u001b[39;00m:\n",
      "\u001b[1;31mOperationalError\u001b[0m: connection to server at \"localhost\" (::1), port 5432 failed: FATAL:  password authentication failed for user \"postgres\"\n",
      "\nThe above exception was the direct cause of the following exception:\n",
      "\u001b[1;31mOperationalError\u001b[0m                          Traceback (most recent call last)",
      "Cell \u001b[1;32mIn[4], line 2\u001b[0m\n\u001b[0;32m      1\u001b[0m products \u001b[38;5;241m=\u001b[39m Product\u001b[38;5;241m.\u001b[39mobjects\u001b[38;5;241m.\u001b[39mannotate(total_price\u001b[38;5;241m=\u001b[39mF(\u001b[38;5;124m\"\u001b[39m\u001b[38;5;124mprice\u001b[39m\u001b[38;5;124m\"\u001b[39m)\u001b[38;5;241m*\u001b[39mF(\u001b[38;5;124m\"\u001b[39m\u001b[38;5;124mremaining_amount\u001b[39m\u001b[38;5;124m\"\u001b[39m))\u001b[38;5;241m.\u001b[39morder_by(\u001b[38;5;124m\"\u001b[39m\u001b[38;5;124m-total_price\u001b[39m\u001b[38;5;124m\"\u001b[39m)[:\u001b[38;5;241m5\u001b[39m]\n\u001b[1;32m----> 2\u001b[0m \u001b[38;5;28;43;01mfor\u001b[39;49;00m\u001b[43m \u001b[49m\u001b[43mproduct\u001b[49m\u001b[43m \u001b[49m\u001b[38;5;129;43;01min\u001b[39;49;00m\u001b[43m \u001b[49m\u001b[43mproducts\u001b[49m\u001b[43m:\u001b[49m\n\u001b[0;32m      3\u001b[0m \u001b[43m    \u001b[49m\u001b[38;5;28;43mprint\u001b[39;49m\u001b[43m(\u001b[49m\u001b[38;5;124;43mf\u001b[39;49m\u001b[38;5;124;43m\"\u001b[39;49m\u001b[38;5;124;43mID: \u001b[39;49m\u001b[38;5;132;43;01m{\u001b[39;49;00m\u001b[43mproduct\u001b[49m\u001b[38;5;241;43m.\u001b[39;49m\u001b[43mid\u001b[49m\u001b[38;5;132;43;01m}\u001b[39;49;00m\u001b[38;5;124;43m, PRICE: \u001b[39;49m\u001b[38;5;132;43;01m{\u001b[39;49;00m\u001b[43mproduct\u001b[49m\u001b[38;5;241;43m.\u001b[39;49m\u001b[43mprice\u001b[49m\u001b[38;5;132;43;01m}\u001b[39;49;00m\u001b[38;5;124;43m, AMOUNT: \u001b[39;49m\u001b[38;5;132;43;01m{\u001b[39;49;00m\u001b[43mproduct\u001b[49m\u001b[38;5;241;43m.\u001b[39;49m\u001b[43mremaining_amount\u001b[49m\u001b[38;5;132;43;01m}\u001b[39;49;00m\u001b[38;5;124;43m, TOTAL PRICE: \u001b[39;49m\u001b[38;5;132;43;01m{\u001b[39;49;00m\u001b[43mproduct\u001b[49m\u001b[38;5;241;43m.\u001b[39;49m\u001b[43mtotal_price\u001b[49m\u001b[38;5;132;43;01m}\u001b[39;49;00m\u001b[38;5;124;43m\"\u001b[39;49m\u001b[43m)\u001b[49m\n",
      "File \u001b[1;32mE:\\IT\\server-side\\Server-side\\week-4\\myvenv\\Lib\\site-packages\\django\\db\\models\\query.py:400\u001b[0m, in \u001b[0;36mQuerySet.__iter__\u001b[1;34m(self)\u001b[0m\n\u001b[0;32m    385\u001b[0m \u001b[38;5;28;01mdef\u001b[39;00m \u001b[38;5;21m__iter__\u001b[39m(\u001b[38;5;28mself\u001b[39m):\n\u001b[0;32m    386\u001b[0m \u001b[38;5;250m    \u001b[39m\u001b[38;5;124;03m\"\"\"\u001b[39;00m\n\u001b[0;32m    387\u001b[0m \u001b[38;5;124;03m    The queryset iterator protocol uses three nested iterators in the\u001b[39;00m\n\u001b[0;32m    388\u001b[0m \u001b[38;5;124;03m    default case:\u001b[39;00m\n\u001b[1;32m   (...)\u001b[0m\n\u001b[0;32m    398\u001b[0m \u001b[38;5;124;03m           - Responsible for turning the rows into model objects.\u001b[39;00m\n\u001b[0;32m    399\u001b[0m \u001b[38;5;124;03m    \"\"\"\u001b[39;00m\n\u001b[1;32m--> 400\u001b[0m     \u001b[38;5;28;43mself\u001b[39;49m\u001b[38;5;241;43m.\u001b[39;49m\u001b[43m_fetch_all\u001b[49m\u001b[43m(\u001b[49m\u001b[43m)\u001b[49m\n\u001b[0;32m    401\u001b[0m     \u001b[38;5;28;01mreturn\u001b[39;00m \u001b[38;5;28miter\u001b[39m(\u001b[38;5;28mself\u001b[39m\u001b[38;5;241m.\u001b[39m_result_cache)\n",
      "File \u001b[1;32mE:\\IT\\server-side\\Server-side\\week-4\\myvenv\\Lib\\site-packages\\django\\db\\models\\query.py:1928\u001b[0m, in \u001b[0;36mQuerySet._fetch_all\u001b[1;34m(self)\u001b[0m\n\u001b[0;32m   1926\u001b[0m \u001b[38;5;28;01mdef\u001b[39;00m \u001b[38;5;21m_fetch_all\u001b[39m(\u001b[38;5;28mself\u001b[39m):\n\u001b[0;32m   1927\u001b[0m     \u001b[38;5;28;01mif\u001b[39;00m \u001b[38;5;28mself\u001b[39m\u001b[38;5;241m.\u001b[39m_result_cache \u001b[38;5;129;01mis\u001b[39;00m \u001b[38;5;28;01mNone\u001b[39;00m:\n\u001b[1;32m-> 1928\u001b[0m         \u001b[38;5;28mself\u001b[39m\u001b[38;5;241m.\u001b[39m_result_cache \u001b[38;5;241m=\u001b[39m \u001b[38;5;28;43mlist\u001b[39;49m\u001b[43m(\u001b[49m\u001b[38;5;28;43mself\u001b[39;49m\u001b[38;5;241;43m.\u001b[39;49m\u001b[43m_iterable_class\u001b[49m\u001b[43m(\u001b[49m\u001b[38;5;28;43mself\u001b[39;49m\u001b[43m)\u001b[49m\u001b[43m)\u001b[49m\n\u001b[0;32m   1929\u001b[0m     \u001b[38;5;28;01mif\u001b[39;00m \u001b[38;5;28mself\u001b[39m\u001b[38;5;241m.\u001b[39m_prefetch_related_lookups \u001b[38;5;129;01mand\u001b[39;00m \u001b[38;5;129;01mnot\u001b[39;00m \u001b[38;5;28mself\u001b[39m\u001b[38;5;241m.\u001b[39m_prefetch_done:\n\u001b[0;32m   1930\u001b[0m         \u001b[38;5;28mself\u001b[39m\u001b[38;5;241m.\u001b[39m_prefetch_related_objects()\n",
      "File \u001b[1;32mE:\\IT\\server-side\\Server-side\\week-4\\myvenv\\Lib\\site-packages\\django\\db\\models\\query.py:91\u001b[0m, in \u001b[0;36mModelIterable.__iter__\u001b[1;34m(self)\u001b[0m\n\u001b[0;32m     88\u001b[0m compiler \u001b[38;5;241m=\u001b[39m queryset\u001b[38;5;241m.\u001b[39mquery\u001b[38;5;241m.\u001b[39mget_compiler(using\u001b[38;5;241m=\u001b[39mdb)\n\u001b[0;32m     89\u001b[0m \u001b[38;5;66;03m# Execute the query. This will also fill compiler.select, klass_info,\u001b[39;00m\n\u001b[0;32m     90\u001b[0m \u001b[38;5;66;03m# and annotations.\u001b[39;00m\n\u001b[1;32m---> 91\u001b[0m results \u001b[38;5;241m=\u001b[39m \u001b[43mcompiler\u001b[49m\u001b[38;5;241;43m.\u001b[39;49m\u001b[43mexecute_sql\u001b[49m\u001b[43m(\u001b[49m\n\u001b[0;32m     92\u001b[0m \u001b[43m    \u001b[49m\u001b[43mchunked_fetch\u001b[49m\u001b[38;5;241;43m=\u001b[39;49m\u001b[38;5;28;43mself\u001b[39;49m\u001b[38;5;241;43m.\u001b[39;49m\u001b[43mchunked_fetch\u001b[49m\u001b[43m,\u001b[49m\u001b[43m \u001b[49m\u001b[43mchunk_size\u001b[49m\u001b[38;5;241;43m=\u001b[39;49m\u001b[38;5;28;43mself\u001b[39;49m\u001b[38;5;241;43m.\u001b[39;49m\u001b[43mchunk_size\u001b[49m\n\u001b[0;32m     93\u001b[0m \u001b[43m\u001b[49m\u001b[43m)\u001b[49m\n\u001b[0;32m     94\u001b[0m select, klass_info, annotation_col_map \u001b[38;5;241m=\u001b[39m (\n\u001b[0;32m     95\u001b[0m     compiler\u001b[38;5;241m.\u001b[39mselect,\n\u001b[0;32m     96\u001b[0m     compiler\u001b[38;5;241m.\u001b[39mklass_info,\n\u001b[0;32m     97\u001b[0m     compiler\u001b[38;5;241m.\u001b[39mannotation_col_map,\n\u001b[0;32m     98\u001b[0m )\n\u001b[0;32m     99\u001b[0m model_cls \u001b[38;5;241m=\u001b[39m klass_info[\u001b[38;5;124m\"\u001b[39m\u001b[38;5;124mmodel\u001b[39m\u001b[38;5;124m\"\u001b[39m]\n",
      "File \u001b[1;32mE:\\IT\\server-side\\Server-side\\week-4\\myvenv\\Lib\\site-packages\\django\\db\\models\\sql\\compiler.py:1560\u001b[0m, in \u001b[0;36mSQLCompiler.execute_sql\u001b[1;34m(self, result_type, chunked_fetch, chunk_size)\u001b[0m\n\u001b[0;32m   1558\u001b[0m     cursor \u001b[38;5;241m=\u001b[39m \u001b[38;5;28mself\u001b[39m\u001b[38;5;241m.\u001b[39mconnection\u001b[38;5;241m.\u001b[39mchunked_cursor()\n\u001b[0;32m   1559\u001b[0m \u001b[38;5;28;01melse\u001b[39;00m:\n\u001b[1;32m-> 1560\u001b[0m     cursor \u001b[38;5;241m=\u001b[39m \u001b[38;5;28;43mself\u001b[39;49m\u001b[38;5;241;43m.\u001b[39;49m\u001b[43mconnection\u001b[49m\u001b[38;5;241;43m.\u001b[39;49m\u001b[43mcursor\u001b[49m\u001b[43m(\u001b[49m\u001b[43m)\u001b[49m\n\u001b[0;32m   1561\u001b[0m \u001b[38;5;28;01mtry\u001b[39;00m:\n\u001b[0;32m   1562\u001b[0m     cursor\u001b[38;5;241m.\u001b[39mexecute(sql, params)\n",
      "File \u001b[1;32mE:\\IT\\server-side\\Server-side\\week-4\\myvenv\\Lib\\site-packages\\django\\utils\\asyncio.py:26\u001b[0m, in \u001b[0;36masync_unsafe.<locals>.decorator.<locals>.inner\u001b[1;34m(*args, **kwargs)\u001b[0m\n\u001b[0;32m     24\u001b[0m         \u001b[38;5;28;01mraise\u001b[39;00m SynchronousOnlyOperation(message)\n\u001b[0;32m     25\u001b[0m \u001b[38;5;66;03m# Pass onward.\u001b[39;00m\n\u001b[1;32m---> 26\u001b[0m \u001b[38;5;28;01mreturn\u001b[39;00m \u001b[43mfunc\u001b[49m\u001b[43m(\u001b[49m\u001b[38;5;241;43m*\u001b[39;49m\u001b[43margs\u001b[49m\u001b[43m,\u001b[49m\u001b[43m \u001b[49m\u001b[38;5;241;43m*\u001b[39;49m\u001b[38;5;241;43m*\u001b[39;49m\u001b[43mkwargs\u001b[49m\u001b[43m)\u001b[49m\n",
      "File \u001b[1;32mE:\\IT\\server-side\\Server-side\\week-4\\myvenv\\Lib\\site-packages\\django\\db\\backends\\base\\base.py:316\u001b[0m, in \u001b[0;36mBaseDatabaseWrapper.cursor\u001b[1;34m(self)\u001b[0m\n\u001b[0;32m    313\u001b[0m \u001b[38;5;129m@async_unsafe\u001b[39m\n\u001b[0;32m    314\u001b[0m \u001b[38;5;28;01mdef\u001b[39;00m \u001b[38;5;21mcursor\u001b[39m(\u001b[38;5;28mself\u001b[39m):\n\u001b[0;32m    315\u001b[0m \u001b[38;5;250m    \u001b[39m\u001b[38;5;124;03m\"\"\"Create a cursor, opening a connection if necessary.\"\"\"\u001b[39;00m\n\u001b[1;32m--> 316\u001b[0m     \u001b[38;5;28;01mreturn\u001b[39;00m \u001b[38;5;28;43mself\u001b[39;49m\u001b[38;5;241;43m.\u001b[39;49m\u001b[43m_cursor\u001b[49m\u001b[43m(\u001b[49m\u001b[43m)\u001b[49m\n",
      "File \u001b[1;32mE:\\IT\\server-side\\Server-side\\week-4\\myvenv\\Lib\\site-packages\\django\\db\\backends\\base\\base.py:292\u001b[0m, in \u001b[0;36mBaseDatabaseWrapper._cursor\u001b[1;34m(self, name)\u001b[0m\n\u001b[0;32m    290\u001b[0m \u001b[38;5;28;01mdef\u001b[39;00m \u001b[38;5;21m_cursor\u001b[39m(\u001b[38;5;28mself\u001b[39m, name\u001b[38;5;241m=\u001b[39m\u001b[38;5;28;01mNone\u001b[39;00m):\n\u001b[0;32m    291\u001b[0m     \u001b[38;5;28mself\u001b[39m\u001b[38;5;241m.\u001b[39mclose_if_health_check_failed()\n\u001b[1;32m--> 292\u001b[0m     \u001b[38;5;28;43mself\u001b[39;49m\u001b[38;5;241;43m.\u001b[39;49m\u001b[43mensure_connection\u001b[49m\u001b[43m(\u001b[49m\u001b[43m)\u001b[49m\n\u001b[0;32m    293\u001b[0m     \u001b[38;5;28;01mwith\u001b[39;00m \u001b[38;5;28mself\u001b[39m\u001b[38;5;241m.\u001b[39mwrap_database_errors:\n\u001b[0;32m    294\u001b[0m         \u001b[38;5;28;01mreturn\u001b[39;00m \u001b[38;5;28mself\u001b[39m\u001b[38;5;241m.\u001b[39m_prepare_cursor(\u001b[38;5;28mself\u001b[39m\u001b[38;5;241m.\u001b[39mcreate_cursor(name))\n",
      "File \u001b[1;32mE:\\IT\\server-side\\Server-side\\week-4\\myvenv\\Lib\\site-packages\\django\\utils\\asyncio.py:26\u001b[0m, in \u001b[0;36masync_unsafe.<locals>.decorator.<locals>.inner\u001b[1;34m(*args, **kwargs)\u001b[0m\n\u001b[0;32m     24\u001b[0m         \u001b[38;5;28;01mraise\u001b[39;00m SynchronousOnlyOperation(message)\n\u001b[0;32m     25\u001b[0m \u001b[38;5;66;03m# Pass onward.\u001b[39;00m\n\u001b[1;32m---> 26\u001b[0m \u001b[38;5;28;01mreturn\u001b[39;00m \u001b[43mfunc\u001b[49m\u001b[43m(\u001b[49m\u001b[38;5;241;43m*\u001b[39;49m\u001b[43margs\u001b[49m\u001b[43m,\u001b[49m\u001b[43m \u001b[49m\u001b[38;5;241;43m*\u001b[39;49m\u001b[38;5;241;43m*\u001b[39;49m\u001b[43mkwargs\u001b[49m\u001b[43m)\u001b[49m\n",
      "File \u001b[1;32mE:\\IT\\server-side\\Server-side\\week-4\\myvenv\\Lib\\site-packages\\django\\db\\backends\\base\\base.py:274\u001b[0m, in \u001b[0;36mBaseDatabaseWrapper.ensure_connection\u001b[1;34m(self)\u001b[0m\n\u001b[0;32m    272\u001b[0m \u001b[38;5;250m\u001b[39m\u001b[38;5;124;03m\"\"\"Guarantee that a connection to the database is established.\"\"\"\u001b[39;00m\n\u001b[0;32m    273\u001b[0m \u001b[38;5;28;01mif\u001b[39;00m \u001b[38;5;28mself\u001b[39m\u001b[38;5;241m.\u001b[39mconnection \u001b[38;5;129;01mis\u001b[39;00m \u001b[38;5;28;01mNone\u001b[39;00m:\n\u001b[1;32m--> 274\u001b[0m \u001b[43m    \u001b[49m\u001b[38;5;28;43;01mwith\u001b[39;49;00m\u001b[43m \u001b[49m\u001b[38;5;28;43mself\u001b[39;49m\u001b[38;5;241;43m.\u001b[39;49m\u001b[43mwrap_database_errors\u001b[49m\u001b[43m:\u001b[49m\n\u001b[0;32m    275\u001b[0m \u001b[43m        \u001b[49m\u001b[38;5;28;43mself\u001b[39;49m\u001b[38;5;241;43m.\u001b[39;49m\u001b[43mconnect\u001b[49m\u001b[43m(\u001b[49m\u001b[43m)\u001b[49m\n",
      "File \u001b[1;32mE:\\IT\\server-side\\Server-side\\week-4\\myvenv\\Lib\\site-packages\\django\\db\\utils.py:91\u001b[0m, in \u001b[0;36mDatabaseErrorWrapper.__exit__\u001b[1;34m(self, exc_type, exc_value, traceback)\u001b[0m\n\u001b[0;32m     89\u001b[0m \u001b[38;5;28;01mif\u001b[39;00m dj_exc_type \u001b[38;5;129;01mnot\u001b[39;00m \u001b[38;5;129;01min\u001b[39;00m (DataError, IntegrityError):\n\u001b[0;32m     90\u001b[0m     \u001b[38;5;28mself\u001b[39m\u001b[38;5;241m.\u001b[39mwrapper\u001b[38;5;241m.\u001b[39merrors_occurred \u001b[38;5;241m=\u001b[39m \u001b[38;5;28;01mTrue\u001b[39;00m\n\u001b[1;32m---> 91\u001b[0m \u001b[38;5;28;01mraise\u001b[39;00m dj_exc_value\u001b[38;5;241m.\u001b[39mwith_traceback(traceback) \u001b[38;5;28;01mfrom\u001b[39;00m \u001b[38;5;21;01mexc_value\u001b[39;00m\n",
      "File \u001b[1;32mE:\\IT\\server-side\\Server-side\\week-4\\myvenv\\Lib\\site-packages\\django\\db\\backends\\base\\base.py:275\u001b[0m, in \u001b[0;36mBaseDatabaseWrapper.ensure_connection\u001b[1;34m(self)\u001b[0m\n\u001b[0;32m    273\u001b[0m \u001b[38;5;28;01mif\u001b[39;00m \u001b[38;5;28mself\u001b[39m\u001b[38;5;241m.\u001b[39mconnection \u001b[38;5;129;01mis\u001b[39;00m \u001b[38;5;28;01mNone\u001b[39;00m:\n\u001b[0;32m    274\u001b[0m     \u001b[38;5;28;01mwith\u001b[39;00m \u001b[38;5;28mself\u001b[39m\u001b[38;5;241m.\u001b[39mwrap_database_errors:\n\u001b[1;32m--> 275\u001b[0m         \u001b[38;5;28;43mself\u001b[39;49m\u001b[38;5;241;43m.\u001b[39;49m\u001b[43mconnect\u001b[49m\u001b[43m(\u001b[49m\u001b[43m)\u001b[49m\n",
      "File \u001b[1;32mE:\\IT\\server-side\\Server-side\\week-4\\myvenv\\Lib\\site-packages\\django\\utils\\asyncio.py:26\u001b[0m, in \u001b[0;36masync_unsafe.<locals>.decorator.<locals>.inner\u001b[1;34m(*args, **kwargs)\u001b[0m\n\u001b[0;32m     24\u001b[0m         \u001b[38;5;28;01mraise\u001b[39;00m SynchronousOnlyOperation(message)\n\u001b[0;32m     25\u001b[0m \u001b[38;5;66;03m# Pass onward.\u001b[39;00m\n\u001b[1;32m---> 26\u001b[0m \u001b[38;5;28;01mreturn\u001b[39;00m \u001b[43mfunc\u001b[49m\u001b[43m(\u001b[49m\u001b[38;5;241;43m*\u001b[39;49m\u001b[43margs\u001b[49m\u001b[43m,\u001b[49m\u001b[43m \u001b[49m\u001b[38;5;241;43m*\u001b[39;49m\u001b[38;5;241;43m*\u001b[39;49m\u001b[43mkwargs\u001b[49m\u001b[43m)\u001b[49m\n",
      "File \u001b[1;32mE:\\IT\\server-side\\Server-side\\week-4\\myvenv\\Lib\\site-packages\\django\\db\\backends\\base\\base.py:256\u001b[0m, in \u001b[0;36mBaseDatabaseWrapper.connect\u001b[1;34m(self)\u001b[0m\n\u001b[0;32m    254\u001b[0m \u001b[38;5;66;03m# Establish the connection\u001b[39;00m\n\u001b[0;32m    255\u001b[0m conn_params \u001b[38;5;241m=\u001b[39m \u001b[38;5;28mself\u001b[39m\u001b[38;5;241m.\u001b[39mget_connection_params()\n\u001b[1;32m--> 256\u001b[0m \u001b[38;5;28mself\u001b[39m\u001b[38;5;241m.\u001b[39mconnection \u001b[38;5;241m=\u001b[39m \u001b[38;5;28;43mself\u001b[39;49m\u001b[38;5;241;43m.\u001b[39;49m\u001b[43mget_new_connection\u001b[49m\u001b[43m(\u001b[49m\u001b[43mconn_params\u001b[49m\u001b[43m)\u001b[49m\n\u001b[0;32m    257\u001b[0m \u001b[38;5;28mself\u001b[39m\u001b[38;5;241m.\u001b[39mset_autocommit(\u001b[38;5;28mself\u001b[39m\u001b[38;5;241m.\u001b[39msettings_dict[\u001b[38;5;124m\"\u001b[39m\u001b[38;5;124mAUTOCOMMIT\u001b[39m\u001b[38;5;124m\"\u001b[39m])\n\u001b[0;32m    258\u001b[0m \u001b[38;5;28mself\u001b[39m\u001b[38;5;241m.\u001b[39minit_connection_state()\n",
      "File \u001b[1;32mE:\\IT\\server-side\\Server-side\\week-4\\myvenv\\Lib\\site-packages\\django\\utils\\asyncio.py:26\u001b[0m, in \u001b[0;36masync_unsafe.<locals>.decorator.<locals>.inner\u001b[1;34m(*args, **kwargs)\u001b[0m\n\u001b[0;32m     24\u001b[0m         \u001b[38;5;28;01mraise\u001b[39;00m SynchronousOnlyOperation(message)\n\u001b[0;32m     25\u001b[0m \u001b[38;5;66;03m# Pass onward.\u001b[39;00m\n\u001b[1;32m---> 26\u001b[0m \u001b[38;5;28;01mreturn\u001b[39;00m \u001b[43mfunc\u001b[49m\u001b[43m(\u001b[49m\u001b[38;5;241;43m*\u001b[39;49m\u001b[43margs\u001b[49m\u001b[43m,\u001b[49m\u001b[43m \u001b[49m\u001b[38;5;241;43m*\u001b[39;49m\u001b[38;5;241;43m*\u001b[39;49m\u001b[43mkwargs\u001b[49m\u001b[43m)\u001b[49m\n",
      "File \u001b[1;32mE:\\IT\\server-side\\Server-side\\week-4\\myvenv\\Lib\\site-packages\\django\\db\\backends\\postgresql\\base.py:277\u001b[0m, in \u001b[0;36mDatabaseWrapper.get_new_connection\u001b[1;34m(self, conn_params)\u001b[0m\n\u001b[0;32m    272\u001b[0m     \u001b[38;5;28;01mexcept\u001b[39;00m \u001b[38;5;167;01mValueError\u001b[39;00m:\n\u001b[0;32m    273\u001b[0m         \u001b[38;5;28;01mraise\u001b[39;00m ImproperlyConfigured(\n\u001b[0;32m    274\u001b[0m             \u001b[38;5;124mf\u001b[39m\u001b[38;5;124m\"\u001b[39m\u001b[38;5;124mInvalid transaction isolation level \u001b[39m\u001b[38;5;132;01m{\u001b[39;00misolation_level_value\u001b[38;5;132;01m}\u001b[39;00m\u001b[38;5;124m \u001b[39m\u001b[38;5;124m\"\u001b[39m\n\u001b[0;32m    275\u001b[0m             \u001b[38;5;124mf\u001b[39m\u001b[38;5;124m\"\u001b[39m\u001b[38;5;124mspecified. Use one of the psycopg.IsolationLevel values.\u001b[39m\u001b[38;5;124m\"\u001b[39m\n\u001b[0;32m    276\u001b[0m         )\n\u001b[1;32m--> 277\u001b[0m connection \u001b[38;5;241m=\u001b[39m \u001b[38;5;28;43mself\u001b[39;49m\u001b[38;5;241;43m.\u001b[39;49m\u001b[43mDatabase\u001b[49m\u001b[38;5;241;43m.\u001b[39;49m\u001b[43mconnect\u001b[49m\u001b[43m(\u001b[49m\u001b[38;5;241;43m*\u001b[39;49m\u001b[38;5;241;43m*\u001b[39;49m\u001b[43mconn_params\u001b[49m\u001b[43m)\u001b[49m\n\u001b[0;32m    278\u001b[0m \u001b[38;5;28;01mif\u001b[39;00m set_isolation_level:\n\u001b[0;32m    279\u001b[0m     connection\u001b[38;5;241m.\u001b[39misolation_level \u001b[38;5;241m=\u001b[39m \u001b[38;5;28mself\u001b[39m\u001b[38;5;241m.\u001b[39misolation_level\n",
      "File \u001b[1;32mE:\\IT\\server-side\\Server-side\\week-4\\myvenv\\Lib\\site-packages\\psycopg2\\__init__.py:122\u001b[0m, in \u001b[0;36mconnect\u001b[1;34m(dsn, connection_factory, cursor_factory, **kwargs)\u001b[0m\n\u001b[0;32m    119\u001b[0m     kwasync[\u001b[38;5;124m'\u001b[39m\u001b[38;5;124masync_\u001b[39m\u001b[38;5;124m'\u001b[39m] \u001b[38;5;241m=\u001b[39m kwargs\u001b[38;5;241m.\u001b[39mpop(\u001b[38;5;124m'\u001b[39m\u001b[38;5;124masync_\u001b[39m\u001b[38;5;124m'\u001b[39m)\n\u001b[0;32m    121\u001b[0m dsn \u001b[38;5;241m=\u001b[39m _ext\u001b[38;5;241m.\u001b[39mmake_dsn(dsn, \u001b[38;5;241m*\u001b[39m\u001b[38;5;241m*\u001b[39mkwargs)\n\u001b[1;32m--> 122\u001b[0m conn \u001b[38;5;241m=\u001b[39m \u001b[43m_connect\u001b[49m\u001b[43m(\u001b[49m\u001b[43mdsn\u001b[49m\u001b[43m,\u001b[49m\u001b[43m \u001b[49m\u001b[43mconnection_factory\u001b[49m\u001b[38;5;241;43m=\u001b[39;49m\u001b[43mconnection_factory\u001b[49m\u001b[43m,\u001b[49m\u001b[43m \u001b[49m\u001b[38;5;241;43m*\u001b[39;49m\u001b[38;5;241;43m*\u001b[39;49m\u001b[43mkwasync\u001b[49m\u001b[43m)\u001b[49m\n\u001b[0;32m    123\u001b[0m \u001b[38;5;28;01mif\u001b[39;00m cursor_factory \u001b[38;5;129;01mis\u001b[39;00m \u001b[38;5;129;01mnot\u001b[39;00m \u001b[38;5;28;01mNone\u001b[39;00m:\n\u001b[0;32m    124\u001b[0m     conn\u001b[38;5;241m.\u001b[39mcursor_factory \u001b[38;5;241m=\u001b[39m cursor_factory\n",
      "\u001b[1;31mOperationalError\u001b[0m: connection to server at \"localhost\" (::1), port 5432 failed: FATAL:  password authentication failed for user \"postgres\"\n"
     ]
    }
   ],
   "source": [
    "products = Product.objects.annotate(total_price=F(\"price\")*F(\"remaining_amount\")).order_by(\"-total_price\")[:5]\n",
    "for product in products:\n",
    "    print(f\"ID: {product.id}, PRICE: {product.price}, AMOUNT: {product.remaining_amount}, TOTAL PRICE: {product.total_price}\")"
   ]
  },
  {
   "cell_type": "markdown",
   "id": "01aa1576",
   "metadata": {},
   "source": [
    "1.2 ต่อเนื่องจากข้อ 1.1 ให้ filter เฉพาะข้อมูล Product ที่มี \"total_price\" มากกว่า 1,000,000 และ \"remaining_amount\" น้อยกว่า 10 ชิ้น\n",
    "\n",
    "ตัวอย่าง Output\n",
    "\n",
    "```\n",
    "ID: 65, PRICE: 1200000.00, AMOUNT: 2, TOTAL PRICE: 2400000.00\n",
    "```"
   ]
  },
  {
   "cell_type": "code",
   "execution_count": null,
   "id": "b8890c7f",
   "metadata": {},
   "outputs": [],
   "source": []
  },
  {
   "cell_type": "markdown",
   "id": "e9bb1b78",
   "metadata": {},
   "source": [
    "1.3 ให้นักศึกษาเรียงลำดับข้อมูลลูกค้า (`Customer`) แสดงเพียงแค่ field `id`, `email` และ `full_name` โดยเรียงลำดับข้อมูลตาม (`id`) จาก `น้อยไปมาก` โดยแสดง 10 คนแรก \n",
    "\n",
    "**Hint:** Field `full_name` นั้นจะต้องถูก annotate ขึ้นมาโดยการนำ `first_name` มาต่อกับ `last_name` โดยใช้ `Concat(*expressions, **extra)` \n",
    "\n",
    "```python\n",
    ">>> Product.objects.filter(description__icontains=\"advance\").values()\n",
    "<QuerySet [{'id': 1, 'name': 'Smartphone', 'description': 'A sleek and powerful smartphone with advanced features.', 'remaining_amount': 24, 'price': Decimal('5900.00')}, {'id': 7, 'name': 'Digital Camera', 'description': 'High-resolution digital camera with advanced photography features.', 'remaining_amount': 4, 'price': Decimal('32000.00')}]>\n",
    "```\n",
    "\n",
    "**Hint:** แปลง object เป็น dict ใช้ `values()`\n",
    "\n",
    "**Hint:** อยาก print dictionary สวยๆ ใช้ `json.dumps`\n",
    "\n",
    "```python\n",
    "print(json.dumps(dictionary, indent=4, sort_keys=False))\n",
    "```\n",
    "\n",
    "ตัวอย่าง Output \n",
    "\n",
    "```\n",
    "[\n",
    "    {\n",
    "        \"id\": 1,\n",
    "        \"email\": \"panita.hong@gmail.com\",\n",
    "        \"full_name\": \"Panita Hongsakulpan\"\n",
    "    },\n",
    "    {\n",
    "        \"id\": 2,\n",
    "        \"email\": \"pakin.jan@gmail.com\",\n",
    "        \"full_name\": \"Pakin Janpen\"\n",
    "    },\n",
    "    {\n",
    "        \"id\": 3,\n",
    "        \"email\": \"jenjira.su@gmail.com\",\n",
    "        \"full_name\": \"Jenjira Sukanansarn\"\n",
    "    },\n",
    "    {\n",
    "        \"id\": 4,\n",
    "        \"email\": \"dejwit.tt@gmail.com\",\n",
    "        \"full_name\": \"Dejwit Tangjareonsakul\"\n",
    "    },\n",
    "    {\n",
    "        \"id\": 5,\n",
    "        \"email\": \"pong.23@gmail.com\",\n",
    "        \"full_name\": \"Pong Sawadiwong\"\n",
    "    },\n",
    "    {\n",
    "        \"id\": 6,\n",
    "        \"email\": \"thiti.za@gmail.com\",\n",
    "        \"full_name\": \"Thitirat Sukkesorn\"\n",
    "    },\n",
    "    {\n",
    "        \"id\": 7,\n",
    "        \"email\": \"prontipa.za@gmail.com\",\n",
    "        \"full_name\": \"Porntipa Pasakul\"\n",
    "    },\n",
    "    {\n",
    "        \"id\": 8,\n",
    "        \"email\": \"warit.za@gmail.com\",\n",
    "        \"full_name\": \"Warit Pititat\"\n",
    "    },\n",
    "    {\n",
    "        \"id\": 9,\n",
    "        \"email\": \"sira.za@gmail.com\",\n",
    "        \"full_name\": \"Sira Pititat\"\n",
    "    },\n",
    "    {\n",
    "        \"id\": 10,\n",
    "        \"email\": \"wanaporn.over@gmail.com\",\n",
    "        \"full_name\": \"Wanaporn Klabpetch\"\n",
    "    }\n",
    "]\n",
    "```"
   ]
  },
  {
   "cell_type": "code",
   "execution_count": null,
   "id": "52d944d1",
   "metadata": {},
   "outputs": [],
   "source": []
  },
  {
   "cell_type": "markdown",
   "id": "b9951ec5",
   "metadata": {},
   "source": [
    "### 2. aggregation\n",
    "2.1 ให้นักศึกษาหาค่าเฉลี่ยของราคาสินค้า (`Product.price`) ที่มีจำนวนคงเหลือ (`Product.remaining_amount`) ตั้งแต่ 100 ชิ้นขึ้นไป \n",
    "\n",
    "ตัวอย่าง Output \n",
    "\n",
    "``` PYTHON\n",
    "Average Price: 664.4545454545454545\n",
    "```\n"
   ]
  },
  {
   "cell_type": "code",
   "execution_count": null,
   "id": "a429d26c",
   "metadata": {},
   "outputs": [],
   "source": []
  },
  {
   "cell_type": "markdown",
   "id": "b7f36676",
   "metadata": {},
   "source": [
    "2.2 ให้นักศึกษาหาราคาของสินค้า (`Product.price`) ที่มากที่สุด และ ราคาของสินค้าที่น้อยที่สุด ของสินค้าที่หมด (`Product.remaining_amount`) \n",
    "\n",
    "ตัวอย่าง Output \n",
    "\n",
    "``` PYTHON\n",
    "Max Price: 990.00\n",
    "Min Price: 129.00\n",
    "```"
   ]
  },
  {
   "cell_type": "code",
   "execution_count": null,
   "id": "2fb24b7a",
   "metadata": {},
   "outputs": [],
   "source": []
  },
  {
   "cell_type": "markdown",
   "id": "12c6384e",
   "metadata": {},
   "source": [
    "2.3 จงหาผลรวมราคา (`CartItem.product.price`) ที่อยู่ในตระกร้าสินค้าของวันที่ 1 (ดูจาก `Cart.create_date`)\n",
    "\n",
    "**หมายเหตุ: ผลรวมราคา คือ  sum ของ `CartItem.product.price` * `CartItem.amount`**\n",
    "\n",
    "ตัวอย่าง Output \n",
    "\n",
    "``` PYTHON\n",
    "Sum Price: 830237.00\n",
    "```"
   ]
  },
  {
   "cell_type": "code",
   "execution_count": null,
   "id": "80122c25",
   "metadata": {},
   "outputs": [],
   "source": []
  },
  {
   "cell_type": "markdown",
   "id": "33120703",
   "metadata": {},
   "source": [
    "2.4 นับจำนวนสินค้าที่อยู่ประเภท Clothing and Apparel, Furniture และ ราคาของสินค้าอยู่ในช่วง 1,000.00 - 10,000.00\n",
    "\n",
    "ตัวอย่าง Output \n",
    "\n",
    "``` PYTHON\n",
    "PRODUCT CATEGORY NAME: Clothing and Apparel PRODUCT COUNT: 1\n",
    "PRODUCT CATEGORY NAME: Furniture PRODUCT COUNT: 5\n",
    "```"
   ]
  },
  {
   "cell_type": "code",
   "execution_count": null,
   "id": "4f606cb4",
   "metadata": {},
   "outputs": [],
   "source": []
  },
  {
   "cell_type": "markdown",
   "id": "95a5e6ce",
   "metadata": {},
   "source": [
    "### 3. many-to-many\n",
    "3.1 ให้ค้นหาข้อมูลสินค้า (Product) ที่อยู่ในประเภทสินค้า \"Information Technology\" 10 รายการแรก (เรียงลำดับด้วย `Product.id`) และแสดงชื่อประเภทสินค้า (ProductCategory)\n",
    "\n",
    "ตัวอย่าง Output บางส่วน\n",
    "\n",
    "``` PYTHON\n",
    "Product ID: 1, Product Name: Smartphone, Categories Name: Information Technology, Electronics, Price: 5900.00\n",
    "Product ID: 2, Product Name: Laptop, Categories Name: Information Technology, Electronics, Price: 25999.00\n",
    "Product ID: 3, Product Name: Smart TV, Categories Name: Information Technology, Electronics, Price: 8900.00\n",
    "Product ID: 4, Product Name: Bluetooth Earphones, Categories Name: Information Technology, Electronics, Price: 350.00\n",
    "Product ID: 5, Product Name: Tablet, Categories Name: Information Technology, Electronics, Price: 12900.00\n",
    "```"
   ]
  },
  {
   "cell_type": "code",
   "execution_count": null,
   "id": "2060dd08",
   "metadata": {},
   "outputs": [],
   "source": []
  },
  {
   "cell_type": "markdown",
   "id": "77af1f85",
   "metadata": {},
   "source": [
    "3.2 ให้ทำตามขั้นตอนดังนี้ \n",
    "\n",
    "    1. เปลี่ยนชื่อประเภทสินค้า `Home Appliances` เป็น `Home Decor` \n",
    "    2. เปลี่ยนประเภทสินค้า `Furniture` ให้เป็น `Home Decor` แทน\n",
    "    3. ค้นหาว่าสินค้าที่มีประเภทสินค้าเป็น `Home Decor` ทั้งหมดมีจำนวนเท่าไหร่"
   ]
  },
  {
   "cell_type": "code",
   "execution_count": 4,
   "id": "89e19572",
   "metadata": {},
   "outputs": [],
   "source": []
  },
  {
   "cell_type": "code",
   "execution_count": 5,
   "id": "b41bd1eb",
   "metadata": {},
   "outputs": [],
   "source": []
  },
  {
   "cell_type": "code",
   "execution_count": null,
   "id": "86471274",
   "metadata": {},
   "outputs": [],
   "source": []
  }
 ],
 "metadata": {
  "kernelspec": {
   "display_name": "Django Shell-Plus",
   "language": "python",
   "name": "django_extensions"
  },
  "language_info": {
   "codemirror_mode": {
    "name": "ipython",
    "version": 3
   },
   "file_extension": ".py",
   "mimetype": "text/x-python",
   "name": "python",
   "nbconvert_exporter": "python",
   "pygments_lexer": "ipython3",
   "version": "3.12.4"
  }
 },
 "nbformat": 4,
 "nbformat_minor": 5
}
