{
 "cells": [
  {
   "cell_type": "markdown",
   "id": "a2a75372",
   "metadata": {},
   "source": [
    "# WEEK 4 - OHWOW\n",
    "OH MY GODTO"
   ]
  },
  {
   "cell_type": "code",
   "execution_count": 1,
   "id": "87a406b8",
   "metadata": {},
   "outputs": [],
   "source": [
    "import os\n",
    "os.environ[\"DJANGO_ALLOW_ASYNC_UNSAFE\"] = \"true\""
   ]
  },
  {
   "cell_type": "code",
   "execution_count": 4,
   "id": "0ad283be",
   "metadata": {},
   "outputs": [
    {
     "name": "stdout",
     "output_type": "stream",
     "text": [
      "Beatles Blog\n",
      "Beatles Blog\n"
     ]
    }
   ],
   "source": [
    "from blogs.models import Blog\n",
    "\n",
    "for blog in Blog.objects.all():\n",
    "    print(blog)"
   ]
  },
  {
   "cell_type": "code",
   "execution_count": 3,
   "id": "7c020460",
   "metadata": {
    "scrolled": true
   },
   "outputs": [],
   "source": [
    "b = Blog(name=\"Beatles Blog\", tagline=\"All the latest Beatles news.\")\n",
    "b.save()"
   ]
  },
  {
   "cell_type": "code",
   "execution_count": 5,
   "id": "a3df7051",
   "metadata": {},
   "outputs": [],
   "source": [
    "b.name = \"New name\"\n",
    "b.save()"
   ]
  },
  {
   "cell_type": "code",
   "execution_count": 6,
   "id": "e952b26a",
   "metadata": {},
   "outputs": [
    {
     "name": "stdout",
     "output_type": "stream",
     "text": [
      "New name\n"
     ]
    }
   ],
   "source": [
    "print(b)"
   ]
  },
  {
   "cell_type": "code",
   "execution_count": 10,
   "id": "4724c0f1",
   "metadata": {},
   "outputs": [],
   "source": [
    "b2 = Blog.objects.create(name=\"Batman Blog\", tagline=\"shikanoko noko\")\n",
    "b2.save()"
   ]
  },
  {
   "cell_type": "code",
   "execution_count": 9,
   "id": "a702f402",
   "metadata": {},
   "outputs": [],
   "source": [
    "from blogs.models import Entry\n",
    "import datetime as dt\n",
    "e1 = Entry(\n",
    "    blog=b,\n",
    "    headline=\"Hello World3\",\n",
    "    body_text=\"test test...\",\n",
    "    pub_date=dt.date(2024, 5, 3),\n",
    ")\n",
    "e1.save()"
   ]
  },
  {
   "cell_type": "code",
   "execution_count": 12,
   "id": "51ff88ae",
   "metadata": {},
   "outputs": [],
   "source": [
    "b1 = Blog.objects.get(pk=3)\n",
    "e1.blog = b1\n",
    "e1.save()"
   ]
  },
  {
   "cell_type": "code",
   "execution_count": 13,
   "id": "cb07dffc",
   "metadata": {},
   "outputs": [],
   "source": [
    "from blogs.models import Author\n",
    "entry = Entry.objects.get(pk=1)\n",
    "john = Author.objects.create(name=\"John\")\n",
    "paul = Author.objects.create(name=\"Paul\")\n",
    "george = Author.objects.create(name=\"George\")\n",
    "ringo = Author.objects.create(name=\"Ringo\")\n",
    "entry.authors.add(john, paul, george, ringo)"
   ]
  },
  {
   "cell_type": "code",
   "execution_count": 14,
   "id": "ef415ebc",
   "metadata": {},
   "outputs": [
    {
     "name": "stdout",
     "output_type": "stream",
     "text": [
      "<QuerySet [<Entry: Hello World>, <Entry: Hello World2>, <Entry: Hello World3>]>\n"
     ]
    }
   ],
   "source": [
    "entries = Entry.objects.all()\n",
    "print(entries)"
   ]
  },
  {
   "cell_type": "code",
   "execution_count": 15,
   "id": "3b88f855",
   "metadata": {},
   "outputs": [
    {
     "name": "stdout",
     "output_type": "stream",
     "text": [
      "Hello World2\n"
     ]
    }
   ],
   "source": [
    "entries = Entry.objects.filter(headline__endswith=\"2\")\n",
    "print(entries[0])"
   ]
  },
  {
   "cell_type": "code",
   "execution_count": 16,
   "id": "ac8d9026",
   "metadata": {},
   "outputs": [
    {
     "name": "stdout",
     "output_type": "stream",
     "text": [
      "<QuerySet [<Entry: Hello World>, <Entry: Hello World3>]>\n"
     ]
    }
   ],
   "source": [
    "entries = Entry.objects.exclude(headline__endswith=\"2\")\n",
    "print(entries)"
   ]
  },
  {
   "cell_type": "code",
   "execution_count": null,
   "id": "a4e398ce",
   "metadata": {},
   "outputs": [],
   "source": [
    "Entry.objects.filter(\n",
    "    headline__startswith=\"What\",\n",
    "    pub_date__gte=datetime.date(2005, 1, 30)\n",
    ").exclude(\n",
    "    pub_date__gte=datetime.date.today()\n",
    ")"
   ]
  },
  {
   "cell_type": "code",
   "execution_count": 19,
   "id": "f32b72bd",
   "metadata": {},
   "outputs": [
    {
     "data": {
      "text/plain": [
       "<Entry: Hello World>"
      ]
     },
     "execution_count": 19,
     "metadata": {},
     "output_type": "execute_result"
    }
   ],
   "source": [
    "Entry.objects.first()"
   ]
  },
  {
   "cell_type": "code",
   "execution_count": 20,
   "id": "9342852d",
   "metadata": {},
   "outputs": [
    {
     "data": {
      "text/plain": [
       "<Entry: Hello World3>"
      ]
     },
     "execution_count": 20,
     "metadata": {},
     "output_type": "execute_result"
    }
   ],
   "source": [
    "Entry.objects.last()"
   ]
  },
  {
   "cell_type": "code",
   "execution_count": 21,
   "id": "4d6180bc",
   "metadata": {},
   "outputs": [
    {
     "data": {
      "text/plain": [
       "<QuerySet [<Entry: Hello World>, <Entry: Hello World2>]>"
      ]
     },
     "execution_count": 21,
     "metadata": {},
     "output_type": "execute_result"
    }
   ],
   "source": [
    "Entry.objects.all()[:2]"
   ]
  },
  {
   "cell_type": "code",
   "execution_count": 22,
   "id": "f15a4e43",
   "metadata": {},
   "outputs": [
    {
     "data": {
      "text/plain": [
       "<Entry: Hello World>"
      ]
     },
     "execution_count": 22,
     "metadata": {},
     "output_type": "execute_result"
    }
   ],
   "source": [
    "e = Entry.objects.first()\n",
    "e"
   ]
  },
  {
   "cell_type": "code",
   "execution_count": 23,
   "id": "d3088891",
   "metadata": {},
   "outputs": [],
   "source": [
    "e.pk = None\n",
    "e._state.adding = True\n",
    "e.save()"
   ]
  },
  {
   "cell_type": "code",
   "execution_count": null,
   "id": "ce234eb8",
   "metadata": {},
   "outputs": [],
   "source": []
  }
 ],
 "metadata": {
  "kernelspec": {
   "display_name": "Django Shell-Plus",
   "language": "python",
   "name": "django_extensions"
  },
  "language_info": {
   "codemirror_mode": {
    "name": "ipython",
    "version": 3
   },
   "file_extension": ".py",
   "mimetype": "text/x-python",
   "name": "python",
   "nbconvert_exporter": "python",
   "pygments_lexer": "ipython3",
   "version": "3.12.4"
  }
 },
 "nbformat": 4,
 "nbformat_minor": 5
}
