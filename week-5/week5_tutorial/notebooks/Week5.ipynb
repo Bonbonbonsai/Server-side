{
 "cells": [
  {
   "cell_type": "code",
   "execution_count": 1,
   "id": "4a8c36cd",
   "metadata": {},
   "outputs": [],
   "source": [
    "import os\n",
    "os.environ[\"DJANGO_ALLOW_ASYNC_UNSAFE\"] = \"true\""
   ]
  },
  {
   "cell_type": "code",
   "execution_count": 2,
   "id": "f4f2a217",
   "metadata": {},
   "outputs": [],
   "source": [
    "from companies.models import *"
   ]
  },
  {
   "cell_type": "code",
   "execution_count": 3,
   "id": "a654c224",
   "metadata": {},
   "outputs": [
    {
     "data": {
      "text/plain": [
       "<Company: Company CCC>"
      ]
     },
     "execution_count": 3,
     "metadata": {},
     "output_type": "execute_result"
    }
   ],
   "source": [
    "Company.objects.create(name=\"Company AAA\", num_employees=120, num_chairs=150, num_tables=60)\n",
    "Company.objects.create(name=\"Company BBB\", num_employees=50, num_chairs=30, num_tables=20)\n",
    "Company.objects.create(name=\"Company CCC\", num_employees=100, num_chairs=40, num_tables=40)"
   ]
  },
  {
   "cell_type": "code",
   "execution_count": 6,
   "id": "50905243",
   "metadata": {},
   "outputs": [],
   "source": [
    "from django.db.models.functions import Length, Upper\n",
    "from django.db.models import Count, F, Value\n",
    "company = Company.objects.create(name=\"Google\", ticker=Upper(Value(\"goog\")), num_employees=10, num_tables=20, num_chairs=20)"
   ]
  },
  {
   "cell_type": "code",
   "execution_count": 17,
   "id": "7641b167",
   "metadata": {},
   "outputs": [
    {
     "data": {
      "text/plain": [
       "<QuerySet [<Company: Company BBB>, <Company: Company CCC>]>"
      ]
     },
     "execution_count": 17,
     "metadata": {},
     "output_type": "execute_result"
    }
   ],
   "source": [
    "Company.objects.filter(num_employees__gt=F(\"num_chairs\")).annotate(chairs_needed=F(\"num_employees\") - F(\"num_chairs\"))"
   ]
  },
  {
   "cell_type": "code",
   "execution_count": 2,
   "id": "97ea57d0",
   "metadata": {},
   "outputs": [
    {
     "data": {
      "text/plain": [
       "59"
      ]
     },
     "execution_count": 2,
     "metadata": {},
     "output_type": "execute_result"
    }
   ],
   "source": [
    "from book.models import *\n",
    "Book.objects.count()"
   ]
  },
  {
   "cell_type": "code",
   "execution_count": 6,
   "id": "a38ef3b5",
   "metadata": {},
   "outputs": [
    {
     "data": {
      "text/plain": [
       "{'avg_rating': 4.340000000000001}"
      ]
     },
     "execution_count": 6,
     "metadata": {},
     "output_type": "execute_result"
    }
   ],
   "source": [
    "from django.db.models import Avg, Max, Min\n",
    "Book.objects.filter(publisher__name=\"Penguin Books\").aggregate(avg_rating=Avg(\"rating\"))"
   ]
  },
  {
   "cell_type": "code",
   "execution_count": 7,
   "id": "6876a16f",
   "metadata": {},
   "outputs": [
    {
     "data": {
      "text/plain": [
       "<QuerySet [{'id': 1, 'name': 'Penguin Books', 'num_books': 20}, {'id': 2, 'name': 'Oxford University Press', 'num_books': 39}]>"
      ]
     },
     "execution_count": 7,
     "metadata": {},
     "output_type": "execute_result"
    }
   ],
   "source": [
    "Publisher.objects.annotate(num_books=Count(\"book\")).values()"
   ]
  },
  {
   "cell_type": "code",
   "execution_count": 9,
   "id": "db09d089",
   "metadata": {},
   "outputs": [
    {
     "data": {
      "text/plain": [
       "<QuerySet [{'id': 1, 'name': 'Penguin Books', 'num_books': 4.340000000000001}, {'id': 2, 'name': 'Oxford University Press', 'num_books': 4.246153846153847}]>"
      ]
     },
     "execution_count": 9,
     "metadata": {},
     "output_type": "execute_result"
    }
   ],
   "source": [
    "Publisher.objects.annotate(num_books=Avg(\"book__rating\")).values()"
   ]
  },
  {
   "cell_type": "code",
   "execution_count": 13,
   "id": "d45530d6",
   "metadata": {},
   "outputs": [
    {
     "data": {
      "text/plain": [
       "<QuerySet [{'id': 5, 'name': 'J.D. Salinger', 'age': 91, 'num_authors': 5.0}, {'id': 6, 'name': 'Herman Melville', 'age': 72, 'num_authors': 6.0}, {'id': 7, 'name': 'Leo Tolstoy', 'age': 82, 'num_authors': 7.0}, {'id': 8, 'name': 'Homer', 'age': 50, 'num_authors': 8.0}, {'id': 9, 'name': 'Fyodor Dostoevsky', 'age': 59, 'num_authors': 9.0}, {'id': 10, 'name': 'Charles Dickens', 'age': 58, 'num_authors': 10.0}, {'id': 11, 'name': 'Gabriel García Márquez', 'age': 87, 'num_authors': 11.0}, {'id': 12, 'name': 'Aldous Huxley', 'age': 69, 'num_authors': 12.0}, {'id': 13, 'name': 'J.K. Rowling', 'age': 57, 'num_authors': 13.0}, {'id': 14, 'name': 'J.R.R. Tolkien', 'age': 81, 'num_authors': 14.0}, {'id': 16, 'name': 'Mary Shelley', 'age': 53, 'num_authors': 16.0}, {'id': 17, 'name': 'Douglas Adams', 'age': 49, 'num_authors': 17.0}, {'id': 18, 'name': 'Ray Bradbury', 'age': 91, 'num_authors': 18.0}, {'id': 20, 'name': 'Emily Brontë', 'age': 30, 'num_authors': 20.0}, {'id': 22, 'name': 'Joseph Heller', 'age': 76, 'num_authors': 22.0}]>"
      ]
     },
     "execution_count": 13,
     "metadata": {},
     "output_type": "execute_result"
    }
   ],
   "source": [
    "Author.objects.annotate(num_authors=Avg(\"book__authors\")).filter(num_authors__gt=4.2).values()"
   ]
  },
  {
   "cell_type": "code",
   "execution_count": 15,
   "id": "70252512",
   "metadata": {},
   "outputs": [
    {
     "data": {
      "text/plain": [
       "<QuerySet [1, 5, 8, 14, 17]>"
      ]
     },
     "execution_count": 15,
     "metadata": {},
     "output_type": "execute_result"
    }
   ],
   "source": [
    "Book.objects.filter(\n",
    "    name__startswith=\"The\", publisher__name=\"Penguin Books\"\n",
    ").values_list(\"id\", flat=True)"
   ]
  },
  {
   "cell_type": "code",
   "execution_count": 16,
   "id": "5493ed85",
   "metadata": {},
   "outputs": [],
   "source": [
    "a1 = Author.objects.get(pk=1)\n",
    "a2 = Author.objects.get(pk=2)\n",
    "\n",
    "book = Book.objects.get(pk=10)"
   ]
  },
  {
   "cell_type": "code",
   "execution_count": 17,
   "id": "8c9d8961",
   "metadata": {},
   "outputs": [],
   "source": [
    "book.authors.add(a2)"
   ]
  },
  {
   "cell_type": "code",
   "execution_count": 18,
   "id": "0b0d1afa",
   "metadata": {},
   "outputs": [
    {
     "data": {
      "text/plain": [
       "<QuerySet [<Author: Author object (2)>, <Author: Author object (5)>]>"
      ]
     },
     "execution_count": 18,
     "metadata": {},
     "output_type": "execute_result"
    }
   ],
   "source": [
    "book.authors.all()"
   ]
  },
  {
   "cell_type": "code",
   "execution_count": 19,
   "id": "7f2e1083",
   "metadata": {},
   "outputs": [],
   "source": [
    "a1.book_set.add(book)"
   ]
  },
  {
   "cell_type": "code",
   "execution_count": 20,
   "id": "546b9341",
   "metadata": {},
   "outputs": [
    {
     "data": {
      "text/plain": [
       "<QuerySet [<Book: Book object (2)>, <Book: Book object (10)>, <Book: Book object (21)>, <Book: Book object (31)>, <Book: Book object (51)>]>"
      ]
     },
     "execution_count": 20,
     "metadata": {},
     "output_type": "execute_result"
    }
   ],
   "source": [
    "a1.book_set.all()"
   ]
  },
  {
   "cell_type": "code",
   "execution_count": null,
   "id": "2e3e1bdf",
   "metadata": {},
   "outputs": [],
   "source": []
  }
 ],
 "metadata": {
  "kernelspec": {
   "display_name": "Django Shell-Plus",
   "language": "python",
   "name": "django_extensions"
  },
  "language_info": {
   "codemirror_mode": {
    "name": "ipython",
    "version": 3
   },
   "file_extension": ".py",
   "mimetype": "text/x-python",
   "name": "python",
   "nbconvert_exporter": "python",
   "pygments_lexer": "ipython3",
   "version": "3.12.4"
  }
 },
 "nbformat": 4,
 "nbformat_minor": 5
}
